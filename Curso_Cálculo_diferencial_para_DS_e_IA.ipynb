{
  "nbformat": 4,
  "nbformat_minor": 0,
  "metadata": {
    "colab": {
      "name": "Curso-Cálculo diferencial para DS e IA.ipynb",
      "provenance": [],
      "collapsed_sections": []
    },
    "kernelspec": {
      "name": "python3",
      "display_name": "Python 3"
    },
    "language_info": {
      "name": "python"
    }
  },
  "cells": [
    {
      "cell_type": "markdown",
      "source": [
        "# Implementación de la derivada"
      ],
      "metadata": {
        "id": "xTYBGKoW-Kfx"
      }
    },
    {
      "cell_type": "markdown",
      "source": [
        "Derivada = pendiente de la recta tangente"
      ],
      "metadata": {
        "id": "PJk3IyKE_0Gm"
      }
    },
    {
      "cell_type": "code",
      "execution_count": null,
      "metadata": {
        "colab": {
          "base_uri": "https://localhost:8080/",
          "height": 265
        },
        "id": "o1XdGyVb82JA",
        "outputId": "cc707b89-e798-487b-dfa6-92f7d3f60f4e"
      },
      "outputs": [
        {
          "output_type": "display_data",
          "data": {
            "image/png": "[encoded data removed]",
            "text/plain": [
              "<Figure size 432x288 with 1 Axes>"
            ]
          },
          "metadata": {
            "needs_background": "light"
          }
        }
      ],
      "source": [
        "import numpy as np\n",
        "import matplotlib.pyplot as plt\n",
        "\n",
        "def f(x):\n",
        "  return x**2\n",
        "\n",
        "x = np.linspace(-10, 10, num = 1000)\n",
        "\n",
        "def df(f):\n",
        "  h = 0.000001\n",
        "  return ((f(x+h) - f(x)) /h)\n",
        "\n",
        "y = f(x)\n",
        "\n",
        "plt.plot(x,y,'b')\n",
        "plt.plot(x,df(f),'r')\n",
        "plt.grid()\n"
      ]
    },
    {
      "cell_type": "markdown",
      "source": [
        "![](https://www.funciones.xyz/wp-content/uploads/2021/10/tabla-derivadas-inmediatas-formulas.png)"
      ],
      "metadata": {
        "id": "ox_UXhs9A669"
      }
    },
    {
      "cell_type": "markdown",
      "source": [
        "![](https://static.platzi.com/media/user_upload/Captura%20de%20pantalla%20de%202022-02-15%2017-20-04-56d4a8b4-6a3a-441a-a642-61edf5e69c2a.jpg)"
      ],
      "metadata": {
        "id": "TyR_Uk2hGbQe"
      }
    },
    {
      "cell_type": "markdown",
      "source": [
        "# Derivada discreta"
      ],
      "metadata": {
        "id": "PIJpRonVG2uJ"
      }
    },
    {
      "cell_type": "code",
      "source": [
        "N = 1000\n",
        "x = np.linspace(-5,5, num = N)\n",
        "\n",
        "def df(f):\n",
        "  h = 0.000001\n",
        "  return ((f(x+h) - f(x)) /h)"
      ],
      "metadata": {
        "id": "VirKQDueG15L"
      },
      "execution_count": null,
      "outputs": []
    },
    {
      "cell_type": "markdown",
      "source": [
        "# Función lineal\n",
        "\n",
        "$f(x) = mx + b$\n",
        "\n",
        "$f'(x) = m$"
      ],
      "metadata": {
        "id": "dprTRPWVHH28"
      }
    },
    {
      "cell_type": "code",
      "source": [
        "def f(x):\n",
        "  return x\n",
        "\n",
        "plt.plot(x, f(x), 'b')\n",
        "plt.plot(x, df(f), 'r')\n",
        "plt.grid()"
      ],
      "metadata": {
        "colab": {
          "base_uri": "https://localhost:8080/",
          "height": 265
        },
        "id": "OtRK_0dFHUgC",
        "outputId": "663a8c6c-e44f-41a7-d99f-2494c1e1caef"
      },
      "execution_count": null,
      "outputs": [
        {
          "output_type": "display_data",
          "data": {
            "image/png": "[encoded data removed]",
            "text/plain": [
              "<Figure size 432x288 with 1 Axes>"
            ]
          },
          "metadata": {
            "needs_background": "light"
          }
        }
      ]
    },
    {
      "cell_type": "markdown",
      "source": [
        "**Aplicación en ML**\n",
        "\n",
        "Se buscan funciones de activación cuyas derivadas sean simples, para minimizar con ello el coste computacional."
      ],
      "metadata": {
        "id": "DClXv5oSMfz0"
      }
    },
    {
      "cell_type": "markdown",
      "source": [
        "## Tipos de función de activación\n",
        "\n",
        "### Sigmoide\n",
        "\n",
        "La función sigmoide transforma los valores introducidos a una escala (0,1), donde los valores altos tienen de manera asintótica a 1 y los valores muy bajos tienden de manera asintótica a 0.\n",
        "\n",
        "![](https://www.diegocalvo.es/wp-content/uploads/2018/12/funcion-sigmoide.png)\n",
        "\n",
        "Características de la función sigmoide:\n",
        "\n",
        "+ Satura y mata el gradiente.\n",
        "+ Lenta convergencia.\n",
        "+ No está centrada en el cero.\n",
        "+ Está acotada entre 0 y 1.\n",
        "+ Buen rendimiento en la última capa.\n",
        "\n",
        "## Tangente hiperbólica\n",
        "\n",
        "La función tangente hiperbólica transforma los valores introducidos a una escala (-1,1), donde los valores altos tienen de manera asintótica a 1 y los valores muy bajos tienden de manera asintótica a -1.\n",
        "\n",
        "![](https://www.diegocalvo.es/wp-content/uploads/2018/12/funci%C3%B3n-tangente-hiperb%C3%B3lica-300x103.png)\n",
        "\n",
        "Características de la función tangente hiperbólica:\n",
        "\n",
        "+ Muy similar a la sigmoide\n",
        "+ Satura y mata el gradiente.\n",
        "+ Lenta convergencia.\n",
        "+ Centrada en 0.\n",
        "+ Está acotada entre -1 y 1.\n",
        "+ Se utiliza para decidir entre uno opción y la contraria.\n",
        "Buen desempeño en redes recurrentes.\n",
        "\n",
        "### ReLU\n",
        "\n",
        "La función ReLU transforma los valores introducidos anulando los valores negativos y dejando los positivos tal y como entran.\n",
        "\n",
        "![texto del enlace](https://www.diegocalvo.es/wp-content/uploads/2018/12/funci%C3%B3n-ReLU-300x63.png)\n",
        "\n",
        "Características de la función ReLU:\n",
        "\n",
        "+ Activación Sparse – solo se activa si son positivos.\n",
        "+ No está acotada.\n",
        "+ Se pueden morir demasiadas neuronas.\n",
        "+ Se comporta bien con imágenes.\n",
        "+ Buen desempeño en redes convolucionales.\n",
        "\n",
        "### Leaky ReLU\n",
        "\n",
        "La función Leaky ReLU transforma los valores introducidos multiplicando los negativos por un coeficiente rectificativo y dejando los positivos según entran.\n",
        "\n",
        "![texto del enlace](https://www.diegocalvo.es/wp-content/uploads/2018/12/funci%C3%B3n-Leaky-ReLU-300x74.png)\n",
        "\n",
        "Características de la función Leaky ReLU:\n",
        "\n",
        "+ Similar a la función ReLU.\n",
        "+ Penaliza los negativos mediante un coeficiente rectificador.\n",
        "+ No está acotada.\n",
        "+ Se comporta bien con imágenes.\n",
        "+ Buen desempeño en redes convolucionales.\n",
        "\n",
        "### Softmax\n",
        "\n",
        "La función Softmax transforma las salidas a una representación en forma de probabilidades, de tal manera que el sumatorio de todas las probabilidades de las salidas de 1.\n",
        "\n",
        "![texto del enlace](https://www.diegocalvo.es/wp-content/uploads/2018/12/funci%C3%B3n-Softmax.png)\n",
        "\n",
        "Características de la función Softmax:\n",
        "\n",
        "+ Se utiliza cuando queremos tener una representación en forma de probabilidades.\n",
        "+ Está acotada entre 0 y 1.\n",
        "+ Muy diferenciable.\n",
        "+ Se utiliza para normalizar tipo multiclase.\n",
        "+ Buen rendimiento en las últimas capas."
      ],
      "metadata": {
        "id": "w78KPROKmM1y"
      }
    }
  ]
}