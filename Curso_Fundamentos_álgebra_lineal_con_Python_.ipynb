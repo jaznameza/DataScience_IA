{
  "nbformat": 4,
  "nbformat_minor": 0,
  "metadata": {
    "colab": {
      "name": "Curso-Fundamentos álgebra lineal con Python .ipynb",
      "provenance": [],
      "collapsed_sections": []
    },
    "kernelspec": {
      "name": "python3",
      "display_name": "Python 3"
    },
    "language_info": {
      "name": "python"
    }
  },
  "cells": [
    {
      "cell_type": "code",
      "source": [
        "import numpy as np"
      ],
      "metadata": {
        "id": "rs_8CdAlCovP"
      },
      "execution_count": null,
      "outputs": []
    },
    {
      "cell_type": "markdown",
      "source": [
        "# Broadcasting"
      ],
      "metadata": {
        "id": "JAb7AshQC8M6"
      }
    },
    {
      "cell_type": "code",
      "source": [
        "escalar = 5.679\n",
        "vector = np.array([3,4,5])\n",
        "matriz = np.array([[1,2],[3,4], [5,6]])"
      ],
      "metadata": {
        "id": "m7zJOXMdC_lr"
      },
      "execution_count": null,
      "outputs": []
    },
    {
      "cell_type": "code",
      "source": [
        "# La siguiente línea marca error porque broadcasting no funciona porque no puede extender\n",
        "# A = vector + matriz\n",
        "A = matriz.T + vector # matriz.T (3x2)\n",
        "A"
      ],
      "metadata": {
        "colab": {
          "base_uri": "https://localhost:8080/"
        },
        "id": "DDILtHSSDRHx",
        "outputId": "a4d2e30d-ebc7-4703-885c-3f3eb9243a00"
      },
      "execution_count": null,
      "outputs": [
        {
          "output_type": "execute_result",
          "data": {
            "text/plain": [
              "array([[ 4,  7, 10],\n",
              "       [ 5,  8, 11]])"
            ]
          },
          "metadata": {},
          "execution_count": 4
        }
      ]
    },
    {
      "cell_type": "code",
      "source": [
        "C = matriz + 42\n",
        "C"
      ],
      "metadata": {
        "colab": {
          "base_uri": "https://localhost:8080/"
        },
        "id": "A04SjX2qDrlD",
        "outputId": "fddb04f8-8531-448f-f0c1-b5c4742f9eab"
      },
      "execution_count": null,
      "outputs": [
        {
          "output_type": "execute_result",
          "data": {
            "text/plain": [
              "array([[43, 44],\n",
              "       [45, 46],\n",
              "       [47, 48]])"
            ]
          },
          "metadata": {},
          "execution_count": 5
        }
      ]
    },
    {
      "cell_type": "code",
      "source": [
        "D = matriz + [[42], [42], [42]]\n",
        "D"
      ],
      "metadata": {
        "colab": {
          "base_uri": "https://localhost:8080/"
        },
        "id": "OZLFbEUlD0YX",
        "outputId": "faa90b0c-fa8b-4fd1-d4c8-13f8ba952dfd"
      },
      "execution_count": null,
      "outputs": [
        {
          "output_type": "execute_result",
          "data": {
            "text/plain": [
              "array([[43, 44],\n",
              "       [45, 46],\n",
              "       [47, 48]])"
            ]
          },
          "metadata": {},
          "execution_count": 7
        }
      ]
    },
    {
      "cell_type": "code",
      "execution_count": null,
      "metadata": {
        "colab": {
          "base_uri": "https://localhost:8080/"
        },
        "id": "gX-ukp-ICcoa",
        "outputId": "28803e42-5238-4a22-df7d-5b92dbeb704a"
      },
      "outputs": [
        {
          "output_type": "stream",
          "name": "stdout",
          "text": [
            "[[6 6 8 7 7]] \n",
            " ---------------------------------------- \n",
            "\n",
            "[[3 4 3 4 3]\n",
            " [4 3 4 3 3]\n",
            " [3 4 3 3 4]\n",
            " [4 4 3 3 4]\n",
            " [3 4 3 4 4]] \n",
            "\n",
            " ---------------------------------------- \n",
            "\n",
            "[[ 9 10 11 11 10]\n",
            " [10  9 12 10 10]\n",
            " [ 9 10 11 10 11]\n",
            " [10 10 11 10 11]\n",
            " [ 9 10 11 11 11]] \n",
            "\n",
            " ---------------------------------------- \n",
            "\n",
            "[[ 9 10 11 11 10]\n",
            " [10  9 12 10 10]\n",
            " [ 9 10 11 10 11]\n",
            " [10 10 11 10 11]\n",
            " [ 9 10 11 11 11]] \n",
            "\n",
            " ---------------------------------------- \n",
            "\n"
          ]
        }
      ],
      "source": [
        "x_matriz = np.random.randint(low = 3, high=5, size =(5, 5)) \n",
        "x_vector = np.random.randint(low = 1, high=9, size =(1,5)) \n",
        "print(x_vector, '\\n','-'*40,'\\n')\n",
        "print(x_matriz, '\\n\\n','-'*40,'\\n')\n",
        "x_result = x_vector + x_matriz\n",
        "print(x_result, '\\n\\n','-'*40,'\\n')\n",
        "\n",
        "y_result =  x_matriz + x_vector\n",
        "print(y_result, '\\n\\n','-'*40,'\\n')"
      ]
    },
    {
      "cell_type": "markdown",
      "source": [
        "# Producto interno"
      ],
      "metadata": {
        "id": "2AMis0BCFFIz"
      }
    },
    {
      "cell_type": "code",
      "source": [
        "vector = np.array([2,3])\n",
        "matriz = np.array([[1,2],[3,4], [5,6]])"
      ],
      "metadata": {
        "id": "Dybkg6ZfFjfq"
      },
      "execution_count": null,
      "outputs": []
    },
    {
      "cell_type": "code",
      "source": [
        "print(vector.shape)\n",
        "print(matriz.shape)"
      ],
      "metadata": {
        "colab": {
          "base_uri": "https://localhost:8080/"
        },
        "id": "nKbXm1u9Nhyv",
        "outputId": "2f1c05e0-7063-4850-86ba-46276a58ff41"
      },
      "execution_count": null,
      "outputs": [
        {
          "output_type": "stream",
          "name": "stdout",
          "text": [
            "(2,)\n",
            "(3, 2)\n"
          ]
        }
      ]
    },
    {
      "cell_type": "code",
      "source": [
        "A = matriz * vector\n",
        "B = matriz.dot(vector)"
      ],
      "metadata": {
        "id": "qx1DZ1ZgFIAd"
      },
      "execution_count": null,
      "outputs": []
    },
    {
      "cell_type": "code",
      "source": [
        "print(A, \"\\n\", \"-\"*10, \"\\n\", B)"
      ],
      "metadata": {
        "colab": {
          "base_uri": "https://localhost:8080/"
        },
        "id": "QlyNehZ5Fm6C",
        "outputId": "5283c3bf-c39e-4b8f-8e2d-46a580e435cc"
      },
      "execution_count": null,
      "outputs": [
        {
          "output_type": "stream",
          "name": "stdout",
          "text": [
            "[[ 2  6]\n",
            " [ 6 12]\n",
            " [10 18]] \n",
            " ---------- \n",
            " [ 8 18 28]\n"
          ]
        }
      ]
    },
    {
      "cell_type": "code",
      "source": [
        "np.dot(matriz, vector)"
      ],
      "metadata": {
        "colab": {
          "base_uri": "https://localhost:8080/"
        },
        "id": "3deI_d0qGjcE",
        "outputId": "65180076-4fad-431e-aade-b3727d627345"
      },
      "execution_count": null,
      "outputs": [
        {
          "output_type": "execute_result",
          "data": {
            "text/plain": [
              "array([ 8, 18, 28])"
            ]
          },
          "metadata": {},
          "execution_count": 17
        }
      ]
    },
    {
      "cell_type": "markdown",
      "source": [
        "## Desafío"
      ],
      "metadata": {
        "id": "6v9dzL_yGv1-"
      }
    },
    {
      "cell_type": "code",
      "source": [
        "c_matriz = np.random.randint(low=1, high=9, size=(2,3))\n",
        "print(c_matriz)\n",
        "c_vector = np.random.randint(low=1, high=9, size=(3))\n",
        "print(c_vector)\n",
        "print(\"-\"*10)\n",
        "print(\"1:\", c_matriz * c_vector)\n",
        "print(\"-\"*10)\n",
        "print(\"2:\", c_vector * c_matriz)"
      ],
      "metadata": {
        "colab": {
          "base_uri": "https://localhost:8080/"
        },
        "id": "pkF_77jVGyME",
        "outputId": "6b9c38bb-83ef-4286-b574-5a2be4ca4624"
      },
      "execution_count": null,
      "outputs": [
        {
          "output_type": "stream",
          "name": "stdout",
          "text": [
            "[[6 7 5]\n",
            " [7 1 8]]\n",
            "[4 6 6]\n",
            "----------\n",
            "1: [[24 42 30]\n",
            " [28  6 48]]\n",
            "----------\n",
            "2: [[24 42 30]\n",
            " [28  6 48]]\n"
          ]
        }
      ]
    },
    {
      "cell_type": "markdown",
      "source": [
        "## Curiosidad - Producto punto y tensores"
      ],
      "metadata": {
        "id": "664ZTh6JK71i"
      }
    },
    {
      "cell_type": "code",
      "source": [
        "x_matriz = np.array([[1,2,3],[3,4,5]])\n",
        "tensor = np.array([\n",
        "    [[1,2],[3,4],[5,6]],\n",
        "    [[1,2],[3,4],[5,6]],\n",
        "    [[1,2],[3,4],[5,6]]\n",
        "])\n",
        "print(x_matriz.shape)\n",
        "print(tensor.shape)\n",
        "D = np.dot(x_matriz , tensor)\n",
        "E = np.dot(tensor , x_matriz)\n",
        "F = np.dot(x_matriz , x_matriz.T)\n",
        "G = np.dot(x_matriz.T, x_matriz)\n",
        "labels = ['D','E','F','G']\n",
        "for idx, mx in enumerate([D, E, F, G]):\n",
        "  print('{0} shape = ({1}):\\n{2}'.format(labels[idx], mx.shape , mx))\n",
        "  print(\"-\"*20)"
      ],
      "metadata": {
        "colab": {
          "base_uri": "https://localhost:8080/"
        },
        "id": "vLEPHmR0Gaev",
        "outputId": "90c530b4-e273-4029-e21b-4dd803aae74f"
      },
      "execution_count": null,
      "outputs": [
        {
          "output_type": "stream",
          "name": "stdout",
          "text": [
            "(2, 3)\n",
            "(3, 3, 2)\n",
            "D shape = ((2, 3, 2)):\n",
            "[[[22 28]\n",
            "  [22 28]\n",
            "  [22 28]]\n",
            "\n",
            " [[40 52]\n",
            "  [40 52]\n",
            "  [40 52]]]\n",
            "--------------------\n",
            "E shape = ((3, 3, 3)):\n",
            "[[[ 7 10 13]\n",
            "  [15 22 29]\n",
            "  [23 34 45]]\n",
            "\n",
            " [[ 7 10 13]\n",
            "  [15 22 29]\n",
            "  [23 34 45]]\n",
            "\n",
            " [[ 7 10 13]\n",
            "  [15 22 29]\n",
            "  [23 34 45]]]\n",
            "--------------------\n",
            "F shape = ((2, 2)):\n",
            "[[14 26]\n",
            " [26 50]]\n",
            "--------------------\n",
            "G shape = ((3, 3)):\n",
            "[[10 14 18]\n",
            " [14 20 26]\n",
            " [18 26 34]]\n",
            "--------------------\n"
          ]
        }
      ]
    },
    {
      "cell_type": "markdown",
      "source": [
        "## Producto interno entre 2 matrices"
      ],
      "metadata": {
        "id": "uFJun4t5M0ia"
      }
    },
    {
      "cell_type": "code",
      "source": [
        "A = np.array([[1,2,3], [4,5,6], [7,8,9], [10,11,12]])\n",
        "B = np.array([[2,3], [5,7], [11,13]])"
      ],
      "metadata": {
        "id": "SBHp_TnAM7tt"
      },
      "execution_count": null,
      "outputs": []
    },
    {
      "cell_type": "code",
      "source": [
        "print(A.shape, B.shape)"
      ],
      "metadata": {
        "colab": {
          "base_uri": "https://localhost:8080/"
        },
        "id": "8QqlchYXNNQ2",
        "outputId": "99268d93-0b46-4558-ccc1-c0bee0a80a39"
      },
      "execution_count": null,
      "outputs": [
        {
          "output_type": "stream",
          "name": "stdout",
          "text": [
            "(4, 3) (3, 2)\n"
          ]
        }
      ]
    },
    {
      "cell_type": "code",
      "source": [
        "C = A.dot(B)\n",
        "C"
      ],
      "metadata": {
        "colab": {
          "base_uri": "https://localhost:8080/"
        },
        "id": "lyTdnG1FN7a3",
        "outputId": "68f7d233-a731-43ef-fe87-94c42de39cf4"
      },
      "execution_count": null,
      "outputs": [
        {
          "output_type": "execute_result",
          "data": {
            "text/plain": [
              "array([[ 45,  56],\n",
              "       [ 99, 125],\n",
              "       [153, 194],\n",
              "       [207, 263]])"
            ]
          },
          "metadata": {},
          "execution_count": 4
        }
      ]
    },
    {
      "cell_type": "code",
      "source": [
        "# La siguiente línea marca error por las dimensiones de las matrices\n",
        "#D = B.dot(A)"
      ],
      "metadata": {
        "colab": {
          "base_uri": "https://localhost:8080/",
          "height": 166
        },
        "id": "fw3BqYyGOAA7",
        "outputId": "b9b8516c-f642-4d3d-aab7-726e03e3f551"
      },
      "execution_count": null,
      "outputs": [
        {
          "output_type": "error",
          "ename": "ValueError",
          "evalue": "ignored",
          "traceback": [
            "\u001b[0;31m---------------------------------------------------------------------------\u001b[0m",
            "\u001b[0;31mValueError\u001b[0m                                Traceback (most recent call last)",
            "\u001b[0;32m<ipython-input-5-e4f2e98153c3>\u001b[0m in \u001b[0;36m<module>\u001b[0;34m()\u001b[0m\n\u001b[0;32m----> 1\u001b[0;31m \u001b[0mD\u001b[0m \u001b[0;34m=\u001b[0m \u001b[0mB\u001b[0m\u001b[0;34m.\u001b[0m\u001b[0mdot\u001b[0m\u001b[0;34m(\u001b[0m\u001b[0mA\u001b[0m\u001b[0;34m)\u001b[0m\u001b[0;34m\u001b[0m\u001b[0;34m\u001b[0m\u001b[0m\n\u001b[0m",
            "\u001b[0;31mValueError\u001b[0m: shapes (3,2) and (4,3) not aligned: 2 (dim 1) != 4 (dim 0)"
          ]
        }
      ]
    },
    {
      "cell_type": "markdown",
      "source": [
        "# Propiedades de las matrices"
      ],
      "metadata": {
        "id": "FPQFOR-fPHQ1"
      }
    },
    {
      "cell_type": "code",
      "source": [
        "A = np.array([[2,3], [5,7], [11,13]])\n",
        "B = np.array([[1,3], [2,1]])\n",
        "C = np.array([[3,1], [4,2]])"
      ],
      "metadata": {
        "id": "wiwmh45tPK87"
      },
      "execution_count": null,
      "outputs": []
    },
    {
      "cell_type": "code",
      "source": [
        "# Asociativa\n",
        "ABC = A.dot(B.dot(C))\n",
        "ABC"
      ],
      "metadata": {
        "colab": {
          "base_uri": "https://localhost:8080/"
        },
        "id": "GqkEUH7vPFdw",
        "outputId": "0a90318b-6961-4ab9-eb99-cf3defd25011"
      },
      "execution_count": null,
      "outputs": [
        {
          "output_type": "execute_result",
          "data": {
            "text/plain": [
              "array([[ 60,  26],\n",
              "       [145,  63],\n",
              "       [295, 129]])"
            ]
          },
          "metadata": {},
          "execution_count": 14
        }
      ]
    },
    {
      "cell_type": "code",
      "source": [
        "AB_C = A.dot(B).dot(C)\n",
        "AB_C"
      ],
      "metadata": {
        "colab": {
          "base_uri": "https://localhost:8080/"
        },
        "id": "H_PW3TLIQmva",
        "outputId": "19f7d9b3-e3c5-4a19-9f0d-568eb7f5bf8c"
      },
      "execution_count": null,
      "outputs": [
        {
          "output_type": "execute_result",
          "data": {
            "text/plain": [
              "array([[ 60,  26],\n",
              "       [145,  63],\n",
              "       [295, 129]])"
            ]
          },
          "metadata": {},
          "execution_count": 15
        }
      ]
    },
    {
      "cell_type": "code",
      "source": [
        "(ABC == AB_C)"
      ],
      "metadata": {
        "colab": {
          "base_uri": "https://localhost:8080/"
        },
        "id": "lZsKueAQQy5k",
        "outputId": "d60c65ba-152b-4615-c1e6-21cef88e7dd3"
      },
      "execution_count": null,
      "outputs": [
        {
          "output_type": "execute_result",
          "data": {
            "text/plain": [
              "array([[ True,  True],\n",
              "       [ True,  True],\n",
              "       [ True,  True]])"
            ]
          },
          "metadata": {},
          "execution_count": 16
        }
      ]
    },
    {
      "cell_type": "code",
      "source": [
        "# Distributiva\n",
        "D = A.dot(B+C)\n",
        "E = A.dot(B) + A.dot(C)"
      ],
      "metadata": {
        "id": "Apb-9IZnRHYr"
      },
      "execution_count": null,
      "outputs": []
    },
    {
      "cell_type": "code",
      "source": [
        "D == E"
      ],
      "metadata": {
        "colab": {
          "base_uri": "https://localhost:8080/"
        },
        "id": "dRI505WvRT2j",
        "outputId": "e8ab7bca-a089-4d0a-b216-9aeaa75f426a"
      },
      "execution_count": null,
      "outputs": [
        {
          "output_type": "execute_result",
          "data": {
            "text/plain": [
              "array([[ True,  True],\n",
              "       [ True,  True],\n",
              "       [ True,  True]])"
            ]
          },
          "metadata": {},
          "execution_count": 18
        }
      ]
    },
    {
      "cell_type": "code",
      "source": [
        "F = B.dot(C)\n",
        "G = C.dot(B)"
      ],
      "metadata": {
        "id": "uh3QLY_2Recg"
      },
      "execution_count": null,
      "outputs": []
    },
    {
      "cell_type": "code",
      "source": [
        "F == G"
      ],
      "metadata": {
        "colab": {
          "base_uri": "https://localhost:8080/"
        },
        "id": "joTGl9FhRlaE",
        "outputId": "57c0df4b-3109-4e53-e326-326eef273dd6"
      },
      "execution_count": null,
      "outputs": [
        {
          "output_type": "execute_result",
          "data": {
            "text/plain": [
              "array([[False, False],\n",
              "       [False, False]])"
            ]
          },
          "metadata": {},
          "execution_count": 20
        }
      ]
    },
    {
      "cell_type": "code",
      "source": [
        "vx = np.array([[2], [7]])\n",
        "vy = np.array([[3], [5]])"
      ],
      "metadata": {
        "id": "wPQ55onMRtqZ"
      },
      "execution_count": null,
      "outputs": []
    },
    {
      "cell_type": "code",
      "source": [
        "vx_tvy = vx.T.dot(vy)\n",
        "vy_tvx = vy.T.dot(vx)"
      ],
      "metadata": {
        "id": "oLWxmTQtR3ar"
      },
      "execution_count": null,
      "outputs": []
    },
    {
      "cell_type": "code",
      "source": [
        "print(vx_tvy, vy_tvx)"
      ],
      "metadata": {
        "colab": {
          "base_uri": "https://localhost:8080/"
        },
        "id": "PWMFYvgOSAh7",
        "outputId": "94d31fc1-e5ce-4c39-8b42-e04bf3113701"
      },
      "execution_count": null,
      "outputs": [
        {
          "output_type": "stream",
          "name": "stdout",
          "text": [
            "[[41]] [[41]]\n"
          ]
        }
      ]
    },
    {
      "cell_type": "markdown",
      "source": [
        "# Transposición de un producto de matrices"
      ],
      "metadata": {
        "id": "23-DQMzqTHK7"
      }
    },
    {
      "cell_type": "code",
      "source": [
        "A = np.array([[2,3], [5,7], [11,13]])\n",
        "B = np.array([[1,3], [2,1]])"
      ],
      "metadata": {
        "id": "Wkg86BBsTOWT"
      },
      "execution_count": null,
      "outputs": []
    },
    {
      "cell_type": "code",
      "source": [
        "C = A.dot(B).T\n",
        "D = B.T.dot(A.T)"
      ],
      "metadata": {
        "id": "WzgrwtV4TVul"
      },
      "execution_count": null,
      "outputs": []
    },
    {
      "cell_type": "code",
      "source": [
        "C == D"
      ],
      "metadata": {
        "colab": {
          "base_uri": "https://localhost:8080/"
        },
        "id": "nG1cp5K5TiZu",
        "outputId": "44ef6cac-ff9d-46cf-81a0-e76948af820b"
      },
      "execution_count": null,
      "outputs": [
        {
          "output_type": "execute_result",
          "data": {
            "text/plain": [
              "array([[ True,  True,  True],\n",
              "       [ True,  True,  True]])"
            ]
          },
          "metadata": {},
          "execution_count": 27
        }
      ]
    },
    {
      "cell_type": "markdown",
      "source": [
        "# Cómo comprobar la solución de un sistema de ecuaciones lineal"
      ],
      "metadata": {
        "id": "dfWSGRnJURVm"
      }
    },
    {
      "cell_type": "code",
      "source": [
        "%matplotlib inline\n",
        "import matplotlib.pyplot as plt"
      ],
      "metadata": {
        "id": "hkfXQVtFUWvU"
      },
      "execution_count": null,
      "outputs": []
    },
    {
      "cell_type": "code",
      "source": [
        "x = np.arange(-5,5)"
      ],
      "metadata": {
        "id": "GcYuQz4iUctm"
      },
      "execution_count": null,
      "outputs": []
    },
    {
      "cell_type": "code",
      "source": [
        "y1 = 3*x + 5\n",
        "y2 = 2*x + 3"
      ],
      "metadata": {
        "id": "846ZhvC5UhqH"
      },
      "execution_count": null,
      "outputs": []
    },
    {
      "cell_type": "code",
      "source": [
        "plt.figure()\n",
        "\n",
        "plt.plot(x, y1); plt.plot(x, y2);\n",
        "\n",
        "plt.xlim(-5, 5)\n",
        "plt.ylim(-5, 5)\n",
        "\n",
        "plt.axvline(x=0, color='grey')\n",
        "plt.axhline(y=0, color='grey');"
      ],
      "metadata": {
        "colab": {
          "base_uri": "https://localhost:8080/",
          "height": 265
        },
        "id": "tRzk_iQ3Un2-",
        "outputId": "b02a603e-23a4-4149-b435-b5b5aa8a9188"
      },
      "execution_count": null,
      "outputs": [
        {
          "output_type": "display_data",
          "data": {
            "image/png": "[encoded data removed]",
            "text/plain": [
              "<Figure size 432x288 with 1 Axes>"
            ]
          },
          "metadata": {
            "needs_background": "light"
          }
        }
      ]
    },
    {
      "cell_type": "code",
      "source": [
        "A = np.array([[-3,1], [-2,1]])\n",
        "b = np.array([5,3])"
      ],
      "metadata": {
        "id": "xN-BbdfcV5OM"
      },
      "execution_count": null,
      "outputs": []
    },
    {
      "cell_type": "code",
      "source": [
        "sx = np.array([-2,-1])\n",
        "sx"
      ],
      "metadata": {
        "colab": {
          "base_uri": "https://localhost:8080/"
        },
        "id": "I75c4Ma9WK93",
        "outputId": "3b625a0f-e077-4b4a-a83e-87fbab317ec1"
      },
      "execution_count": null,
      "outputs": [
        {
          "output_type": "execute_result",
          "data": {
            "text/plain": [
              "array([-2, -1])"
            ]
          },
          "metadata": {},
          "execution_count": 35
        }
      ]
    },
    {
      "cell_type": "code",
      "source": [
        "A.dot(sx)"
      ],
      "metadata": {
        "colab": {
          "base_uri": "https://localhost:8080/"
        },
        "id": "GiJGjxW2WVRZ",
        "outputId": "baa28c76-c32b-4e8d-d805-18ec7725aa75"
      },
      "execution_count": null,
      "outputs": [
        {
          "output_type": "execute_result",
          "data": {
            "text/plain": [
              "array([5, 3])"
            ]
          },
          "metadata": {},
          "execution_count": 36
        }
      ]
    },
    {
      "cell_type": "markdown",
      "source": [
        "# Tipos especiales de matrices: identidad, inversa, singulares"
      ],
      "metadata": {
        "id": "LAgACWSHbP8O"
      }
    },
    {
      "cell_type": "code",
      "source": [
        "identidad = np.eye(4)\n",
        "identidad"
      ],
      "metadata": {
        "colab": {
          "base_uri": "https://localhost:8080/"
        },
        "id": "cCJCsl1Bba8Q",
        "outputId": "d4b2b3e7-8ce5-4637-be44-d4069475cf42"
      },
      "execution_count": null,
      "outputs": [
        {
          "output_type": "execute_result",
          "data": {
            "text/plain": [
              "array([[1., 0., 0., 0.],\n",
              "       [0., 1., 0., 0.],\n",
              "       [0., 0., 1., 0.],\n",
              "       [0., 0., 0., 1.]])"
            ]
          },
          "metadata": {},
          "execution_count": 37
        }
      ]
    },
    {
      "cell_type": "code",
      "source": [
        "vector = np.array([2,3,5,7])"
      ],
      "metadata": {
        "id": "rlakoHfIbg5I"
      },
      "execution_count": null,
      "outputs": []
    },
    {
      "cell_type": "code",
      "source": [
        "identidad.dot(vector)"
      ],
      "metadata": {
        "colab": {
          "base_uri": "https://localhost:8080/"
        },
        "id": "yjPMii-ebn3X",
        "outputId": "4c421dd0-7b74-4ef7-a795-f6422b1ad898"
      },
      "execution_count": null,
      "outputs": [
        {
          "output_type": "execute_result",
          "data": {
            "text/plain": [
              "array([2., 3., 5., 7.])"
            ]
          },
          "metadata": {},
          "execution_count": 40
        }
      ]
    },
    {
      "cell_type": "code",
      "source": [
        "A = np.array([[1,0,1], [0,1,1], [-1,1,1]])\n",
        "A"
      ],
      "metadata": {
        "colab": {
          "base_uri": "https://localhost:8080/"
        },
        "id": "QXyb4uULb-ht",
        "outputId": "2d53eef7-b190-48bd-ce61-5154934be189"
      },
      "execution_count": null,
      "outputs": [
        {
          "output_type": "execute_result",
          "data": {
            "text/plain": [
              "array([[ 1,  0,  1],\n",
              "       [ 0,  1,  1],\n",
              "       [-1,  1,  1]])"
            ]
          },
          "metadata": {},
          "execution_count": 42
        }
      ]
    },
    {
      "cell_type": "code",
      "source": [
        "inversa_A = np.linalg.inv(A)\n",
        "inversa_A"
      ],
      "metadata": {
        "colab": {
          "base_uri": "https://localhost:8080/"
        },
        "id": "DILCRVlhcp_M",
        "outputId": "fa067283-e75a-4692-99e1-0fc465d39d26"
      },
      "execution_count": null,
      "outputs": [
        {
          "output_type": "execute_result",
          "data": {
            "text/plain": [
              "array([[ 0.,  1., -1.],\n",
              "       [-1.,  2., -1.],\n",
              "       [ 1., -1.,  1.]])"
            ]
          },
          "metadata": {},
          "execution_count": 43
        }
      ]
    },
    {
      "cell_type": "code",
      "source": [
        "A.dot(inversa_A)"
      ],
      "metadata": {
        "colab": {
          "base_uri": "https://localhost:8080/"
        },
        "id": "7ixs_CmAcxlX",
        "outputId": "ff735b25-0d15-48d2-9c65-3cc9f603273e"
      },
      "execution_count": null,
      "outputs": [
        {
          "output_type": "execute_result",
          "data": {
            "text/plain": [
              "array([[1., 0., 0.],\n",
              "       [0., 1., 0.],\n",
              "       [0., 0., 1.]])"
            ]
          },
          "metadata": {},
          "execution_count": 44
        }
      ]
    },
    {
      "cell_type": "code",
      "source": [
        "singular = np.array([[1,1], [1,1]])\n",
        "singular"
      ],
      "metadata": {
        "colab": {
          "base_uri": "https://localhost:8080/"
        },
        "id": "EarAUgklc7XY",
        "outputId": "91b90d17-1019-4c6c-ab16-3f85c6e66c16"
      },
      "execution_count": null,
      "outputs": [
        {
          "output_type": "execute_result",
          "data": {
            "text/plain": [
              "array([[1, 1],\n",
              "       [1, 1]])"
            ]
          },
          "metadata": {},
          "execution_count": 45
        }
      ]
    },
    {
      "cell_type": "code",
      "source": [
        "try:\n",
        "  inversa_singular = np.linalg.inv(singular)\n",
        "  print(inversa_singular)\n",
        "except np.linalg.LinAlgError:\n",
        "  print(\"No existe la inversa\")"
      ],
      "metadata": {
        "colab": {
          "base_uri": "https://localhost:8080/"
        },
        "id": "_gwAnqprdD3r",
        "outputId": "83b279b3-f5bb-45d5-d02f-d7d647cf1ea3"
      },
      "execution_count": null,
      "outputs": [
        {
          "output_type": "stream",
          "name": "stdout",
          "text": [
            "No existe la inversa\n"
          ]
        }
      ]
    },
    {
      "cell_type": "markdown",
      "source": [
        "# Aplicación de la inversa de una matriz para resolver un sistema de ecuaciones"
      ],
      "metadata": {
        "id": "YD8zlffKeYEP"
      }
    },
    {
      "cell_type": "code",
      "source": [
        "np.set_printoptions(suppress=True)"
      ],
      "metadata": {
        "id": "0ApJckr-eiOr"
      },
      "execution_count": null,
      "outputs": []
    },
    {
      "cell_type": "code",
      "source": [
        "A = np.array([[3,1],[2,1]])\n",
        "A"
      ],
      "metadata": {
        "colab": {
          "base_uri": "https://localhost:8080/"
        },
        "id": "E9kvZEDBen58",
        "outputId": "e3b827bd-a17c-4138-e1a8-9f5be3652113"
      },
      "execution_count": null,
      "outputs": [
        {
          "output_type": "execute_result",
          "data": {
            "text/plain": [
              "array([[3, 1],\n",
              "       [2, 1]])"
            ]
          },
          "metadata": {},
          "execution_count": 53
        }
      ]
    },
    {
      "cell_type": "code",
      "source": [
        "b = np.array([[1],[1]])"
      ],
      "metadata": {
        "id": "M3r_IqBTewdC"
      },
      "execution_count": null,
      "outputs": []
    },
    {
      "cell_type": "code",
      "source": [
        "inversa_a = np.linalg.inv(A)\n",
        "inversa_a"
      ],
      "metadata": {
        "colab": {
          "base_uri": "https://localhost:8080/"
        },
        "id": "bt6B-KkNe1-g",
        "outputId": "098e2264-1fa0-4ed4-d9a2-bcd56f1bd1bd"
      },
      "execution_count": null,
      "outputs": [
        {
          "output_type": "execute_result",
          "data": {
            "text/plain": [
              "array([[ 1., -1.],\n",
              "       [-2.,  3.]])"
            ]
          },
          "metadata": {},
          "execution_count": 55
        }
      ]
    },
    {
      "cell_type": "code",
      "source": [
        "x = inversa_a.dot(b)\n",
        "x"
      ],
      "metadata": {
        "colab": {
          "base_uri": "https://localhost:8080/"
        },
        "id": "x_UKX9LRe_3z",
        "outputId": "a7490e08-0574-41d9-d2fe-82e08514f0e7"
      },
      "execution_count": null,
      "outputs": [
        {
          "output_type": "execute_result",
          "data": {
            "text/plain": [
              "array([[0.],\n",
              "       [1.]])"
            ]
          },
          "metadata": {},
          "execution_count": 57
        }
      ]
    },
    {
      "cell_type": "code",
      "source": [
        "sol2 = inversa_a.dot(np.array([[3], [7]]))\n",
        "sol2"
      ],
      "metadata": {
        "colab": {
          "base_uri": "https://localhost:8080/"
        },
        "id": "3l9NiqcBfm1O",
        "outputId": "da1c4217-2738-4e33-d77e-873ac5a633b5"
      },
      "execution_count": null,
      "outputs": [
        {
          "output_type": "execute_result",
          "data": {
            "text/plain": [
              "array([[-4.],\n",
              "       [15.]])"
            ]
          },
          "metadata": {},
          "execution_count": 58
        }
      ]
    },
    {
      "cell_type": "code",
      "source": [
        "A.dot(sol2)"
      ],
      "metadata": {
        "colab": {
          "base_uri": "https://localhost:8080/"
        },
        "id": "RRh2G2RIfwrb",
        "outputId": "0e3dedd4-3c2d-4cb7-d097-3d7406223296"
      },
      "execution_count": null,
      "outputs": [
        {
          "output_type": "execute_result",
          "data": {
            "text/plain": [
              "array([[3.],\n",
              "       [7.]])"
            ]
          },
          "metadata": {},
          "execution_count": 59
        }
      ]
    },
    {
      "cell_type": "markdown",
      "source": [
        "# Ejemplos de sistemas sin solución, con una solución y con infinitas soluciones"
      ],
      "metadata": {
        "id": "ZQy55TtkgNIG"
      }
    },
    {
      "cell_type": "code",
      "source": [
        "%matplotlib inline\n",
        "import numpy as np\n",
        "import matplotlib.pyplot as plt"
      ],
      "metadata": {
        "id": "Op8OuDEPgRyX"
      },
      "execution_count": null,
      "outputs": []
    },
    {
      "cell_type": "markdown",
      "source": [
        "$y = 3x + 5$\n",
        "\n",
        "$y = -1x + 3$\n",
        "\n",
        "$y = 2x + 1$"
      ],
      "metadata": {
        "id": "jYsxnCjJga2C"
      }
    },
    {
      "cell_type": "code",
      "source": [
        "x = np.arange(-6,6)\n",
        "# Sistema SIN SOLUCIÓN\n",
        "y1 = 3*x + 5\n",
        "y2 = -x + 3\n",
        "y3 = 2*x + 1"
      ],
      "metadata": {
        "id": "3pIU-bFqgmYc"
      },
      "execution_count": null,
      "outputs": []
    },
    {
      "cell_type": "code",
      "source": [
        "plt.figure()\n",
        "plt.plot(x, y1); plt.plot(x, y2); plt.plot(x, y3)\n",
        "plt.xlim(-8, 8); plt.ylim(-8, 8)\n",
        "\n",
        "plt.axvline(x=0, color='grey')\n",
        "plt.axhline(y=0, color='grey')\n",
        "\n",
        "plt.show();"
      ],
      "metadata": {
        "colab": {
          "base_uri": "https://localhost:8080/",
          "height": 269
        },
        "id": "cXbzDoMYgwzK",
        "outputId": "6778f29b-745f-401f-9a23-3439181481c6"
      },
      "execution_count": null,
      "outputs": [
        {
          "output_type": "display_data",
          "data": {
            "image/png": "[encoded data removed]",
            "text/plain": [
              "<Figure size 432x288 with 1 Axes>"
            ]
          },
          "metadata": {
            "needs_background": "light"
          }
        }
      ]
    },
    {
      "cell_type": "code",
      "source": [
        "# Sistema con única solución\n",
        "plt.figure()\n",
        "plt.plot(x, y2); plt.plot(x, y3)\n",
        "plt.xlim(-8, 8); plt.ylim(-8, 8)\n",
        "\n",
        "plt.axvline(x=0, color='grey')\n",
        "plt.axhline(y=0, color='grey')\n",
        "\n",
        "plt.show();"
      ],
      "metadata": {
        "colab": {
          "base_uri": "https://localhost:8080/",
          "height": 269
        },
        "id": "rWZBOUSNhyK-",
        "outputId": "8f51f5b2-42a6-4042-db87-7fc12f094690"
      },
      "execution_count": null,
      "outputs": [
        {
          "output_type": "display_data",
          "data": {
            "image/png": "[encoded data removed]",
            "text/plain": [
              "<Figure size 432x288 with 1 Axes>"
            ]
          },
          "metadata": {
            "needs_background": "light"
          }
        }
      ]
    },
    {
      "cell_type": "code",
      "source": [
        "plt.figure()\n",
        "plt.plot(x, y3)\n",
        "plt.xlim(-8, 8); plt.ylim(-8, 8)\n",
        "\n",
        "plt.axvline(x=0, color='grey')\n",
        "plt.axhline(y=0, color='grey')\n",
        "\n",
        "plt.show();"
      ],
      "metadata": {
        "colab": {
          "base_uri": "https://localhost:8080/",
          "height": 269
        },
        "id": "C5XTHcn5iGIg",
        "outputId": "e02f33b1-8240-4e9e-8e48-881b5517ddef"
      },
      "execution_count": null,
      "outputs": [
        {
          "output_type": "display_data",
          "data": {
            "image/png": "[encoded data removed]",
            "text/plain": [
              "<Figure size 432x288 with 1 Axes>"
            ]
          },
          "metadata": {
            "needs_background": "light"
          }
        }
      ]
    },
    {
      "cell_type": "markdown",
      "source": [
        "+ 0 soluciones = sobredeterminado: nº ecuaciones > nºvariables\n",
        "\n",
        "+ 1 solución = determinado: nº ecuaciones = nºvariables\n",
        "\n",
        "+ Infinitas soluciones = indeterminado: nº ecuaciones < nºvariables"
      ],
      "metadata": {
        "id": "QAhvlrZ6iVf_"
      }
    },
    {
      "cell_type": "markdown",
      "source": [
        "# Visualizar vectores"
      ],
      "metadata": {
        "id": "5v2zGXq1iohk"
      }
    },
    {
      "cell_type": "code",
      "source": [
        "vx = np.array([2,5])\n",
        "vy = np.array([3,2])"
      ],
      "metadata": {
        "id": "H3fsewEkirgr"
      },
      "execution_count": null,
      "outputs": []
    },
    {
      "cell_type": "code",
      "source": [
        "def graficar_vectores_(vecs, colores, alpha = 1):\n",
        "  plt.figure()\n",
        "  plt.axvline(x=0, color = 'grey', zorder = 0)\n",
        "  plt.axhline(y=0, color = 'grey', zorder = 0)\n",
        "\n",
        "  for i in range(len(vecs)):\n",
        "    x = np.concatenate([[0,0], vecs[i]])\n",
        "    plt.quiver([x[0]], [x[1]], [x[2]], [x[3]], angles='xy',\n",
        "               scale_units = 'xy', scale=1,\n",
        "               color=colores[i],\n",
        "               alpha = alpha)"
      ],
      "metadata": {
        "id": "TjIMvXgziwuH"
      },
      "execution_count": null,
      "outputs": []
    },
    {
      "cell_type": "code",
      "source": [
        "graficar_vectores_([vx, vy], ['orange', 'blue'])\n",
        "plt.xlim(-1,8); plt.ylim(-1,8);"
      ],
      "metadata": {
        "colab": {
          "base_uri": "https://localhost:8080/",
          "height": 269
        },
        "id": "iYOpdiNqjsPx",
        "outputId": "a0f126ed-9b57-4c15-c09a-6754a31addf9"
      },
      "execution_count": null,
      "outputs": [
        {
          "output_type": "display_data",
          "data": {
            "image/png": "[encoded data removed]",
            "text/plain": [
              "<Figure size 432x288 with 1 Axes>"
            ]
          },
          "metadata": {
            "needs_background": "light"
          }
        }
      ]
    },
    {
      "cell_type": "markdown",
      "source": [
        "## Para trabajar con la función definida en otro notebook"
      ],
      "metadata": {
        "id": "ZVA7cfNJp2hZ"
      }
    },
    {
      "cell_type": "code",
      "source": [
        "!pip install kora -q"
      ],
      "metadata": {
        "colab": {
          "base_uri": "https://localhost:8080/"
        },
        "id": "2vlUqRpWnNlf",
        "outputId": "757bf6e9-8e39-4856-8e8a-0e721f0a2fd9"
      },
      "execution_count": null,
      "outputs": [
        {
          "output_type": "stream",
          "name": "stdout",
          "text": [
            "\u001b[K     |████████████████████████████████| 57 kB 3.3 MB/s \n",
            "\u001b[K     |████████████████████████████████| 56 kB 3.8 MB/s \n",
            "\u001b[?25h"
          ]
        }
      ]
    },
    {
      "cell_type": "code",
      "source": [
        "from kora import drive\n",
        "drive.link_nbs()"
      ],
      "metadata": {
        "colab": {
          "base_uri": "https://localhost:8080/"
        },
        "id": "CjrxPp0enRl3",
        "outputId": "baa5fc4d-216b-4b6a-adc2-a36031a22289"
      },
      "execution_count": null,
      "outputs": [
        {
          "output_type": "stream",
          "name": "stdout",
          "text": [
            "Mounted at /content/drive\n"
          ]
        }
      ]
    },
    {
      "cell_type": "code",
      "source": [
        "%run '/content/drive/My Drive/Colab Notebooks/GraficarVectores.ipynb'"
      ],
      "metadata": {
        "id": "OoEQKgxznZ2w"
      },
      "execution_count": null,
      "outputs": []
    },
    {
      "cell_type": "markdown",
      "source": [
        "# Combinaciones lineales"
      ],
      "metadata": {
        "id": "ganamKDzmvtV"
      }
    },
    {
      "cell_type": "code",
      "source": [
        "import numpy as np\n",
        "import matplotlib.pyplot as plt"
      ],
      "metadata": {
        "id": "ph475MayqTKC"
      },
      "execution_count": null,
      "outputs": []
    },
    {
      "cell_type": "code",
      "source": [
        "vx = np.array([2,5])\n",
        "vy = np.array([3,2])"
      ],
      "metadata": {
        "id": "0W6MN_c9myGC"
      },
      "execution_count": null,
      "outputs": []
    },
    {
      "cell_type": "code",
      "source": [
        "vz = 2*vx + 3*vy\n",
        "vz"
      ],
      "metadata": {
        "colab": {
          "base_uri": "https://localhost:8080/"
        },
        "id": "iPbhtRKCobWL",
        "outputId": "5a91862c-5609-4c35-8e95-db548778905b"
      },
      "execution_count": null,
      "outputs": [
        {
          "output_type": "execute_result",
          "data": {
            "text/plain": [
              "array([13, 16])"
            ]
          },
          "metadata": {},
          "execution_count": 4
        }
      ]
    },
    {
      "cell_type": "code",
      "source": [
        "graficar_vectores([vx, vy, vz], ['orange', 'blue', 'red'])\n",
        "plt.xlim(-1,8); plt.ylim(-1,8);"
      ],
      "metadata": {
        "colab": {
          "base_uri": "https://localhost:8080/",
          "height": 269
        },
        "id": "OESV8R1WomKv",
        "outputId": "28b3db3b-c2f5-4f7f-b696-4475632c6b2f"
      },
      "execution_count": null,
      "outputs": [
        {
          "output_type": "display_data",
          "data": {
            "image/png": "[encoded data removed]",
            "text/plain": [
              "<Figure size 432x288 with 1 Axes>"
            ]
          },
          "metadata": {
            "needs_background": "light"
          }
        }
      ]
    },
    {
      "cell_type": "code",
      "source": [
        "for a in range(-10, 10):\n",
        "  for b in range(-10, 10):\n",
        "    plt.scatter(vx[0]*a + vy[0]*b, vx[1]*a + vy[1]*b,\n",
        "                marker = '.', color = 'orange')\n",
        "plt.xlim(-100, 100)\n",
        "plt.ylim(-100, 100)\n",
        "\n",
        "plt.axvline(x=0, color = 'grey')\n",
        "plt.axhline(y=0, color = 'grey')\n",
        "\n",
        "plt.show();"
      ],
      "metadata": {
        "colab": {
          "base_uri": "https://localhost:8080/",
          "height": 269
        },
        "id": "F7lpeca1qbSK",
        "outputId": "bfd8786c-7c5d-4bd6-c82b-a78450a5cf1d"
      },
      "execution_count": null,
      "outputs": [
        {
          "output_type": "display_data",
          "data": {
            "image/png": "[encoded data removed]",
            "text/plain": [
              "<Figure size 432x288 with 1 Axes>"
            ]
          },
          "metadata": {
            "needs_background": "light"
          }
        }
      ]
    },
    {
      "cell_type": "markdown",
      "source": [
        "# ¿Qué es un espacio y un subespacio?"
      ],
      "metadata": {
        "id": "jlb33WebrS7X"
      }
    },
    {
      "cell_type": "code",
      "source": [
        "import numpy as np\n",
        "import matplotlib.pyplot as plt"
      ],
      "metadata": {
        "id": "rPu_4eKZ8yzi"
      },
      "execution_count": null,
      "outputs": []
    },
    {
      "cell_type": "code",
      "source": [
        "vx = np.array([1,1])\n",
        "vy = np.array([-1,-1])"
      ],
      "metadata": {
        "id": "9bpRJ19mrYyX"
      },
      "execution_count": null,
      "outputs": []
    },
    {
      "cell_type": "code",
      "source": [
        "for a in range(-10, 10):\n",
        "  for b in range(-10, 10):\n",
        "    plt.scatter(vx[0]*a + vy[0]*b, vx[1]*a + vy[1]*b,\n",
        "                marker = '.', color = 'orange')\n",
        "plt.xlim(-25, 25)\n",
        "plt.ylim(-25, 25)\n",
        "\n",
        "plt.axvline(x=0, color = 'grey')\n",
        "plt.axhline(y=0, color = 'grey')\n",
        "\n",
        "plt.show();"
      ],
      "metadata": {
        "colab": {
          "base_uri": "https://localhost:8080/",
          "height": 265
        },
        "id": "IVfmWCvv8xfI",
        "outputId": "e67c8e76-5ace-4191-85cd-375321520c3e"
      },
      "execution_count": null,
      "outputs": [
        {
          "output_type": "display_data",
          "data": {
            "image/png": "[encoded data removed]",
            "text/plain": [
              "<Figure size 432x288 with 1 Axes>"
            ]
          },
          "metadata": {
            "needs_background": "light"
          }
        }
      ]
    },
    {
      "cell_type": "code",
      "source": [
        "vx = np.array([1,0])\n",
        "vy = np.array([2,-3])"
      ],
      "metadata": {
        "id": "rbJ63sek9fjb"
      },
      "execution_count": null,
      "outputs": []
    },
    {
      "cell_type": "code",
      "source": [
        "for a in range(-10, 10):\n",
        "  for b in range(-10, 10):\n",
        "    plt.scatter(vx[0]*a + vy[0]*b, vx[1]*a + vy[1]*b,\n",
        "                marker = '.', color = 'orange')\n",
        "plt.xlim(-25, 25)\n",
        "plt.ylim(-25, 25)\n",
        "\n",
        "plt.axvline(x=0, color = 'grey')\n",
        "plt.axhline(y=0, color = 'grey')\n",
        "\n",
        "plt.show();"
      ],
      "metadata": {
        "colab": {
          "base_uri": "https://localhost:8080/",
          "height": 265
        },
        "id": "EpWTRaS99qAW",
        "outputId": "39b9e144-6cad-44d6-c9ac-6287ab9399c3"
      },
      "execution_count": null,
      "outputs": [
        {
          "output_type": "display_data",
          "data": {
            "image/png": "[encoded data removed]",
            "text/plain": [
              "<Figure size 432x288 with 1 Axes>"
            ]
          },
          "metadata": {
            "needs_background": "light"
          }
        }
      ]
    },
    {
      "cell_type": "code",
      "source": [
        "%matplotlib inline\n",
        "from mpl_toolkits import mplot3d\n",
        "vx = np.array([1,0,0])\n",
        "vy = np.array([2,-3,0])\n",
        "fig = plt.figure()\n",
        "ax = plt.axes(projection = '3d')\n",
        "for a in range(-10, 10):\n",
        "  for b in range(-10, 10):\n",
        "    plt.scatter(vx[0]*a + vy[0]*b, vx[1]*a + vy[1]*b, vx[2]*a + vy[2]*b,\n",
        "                marker = '.', color = 'orange')\n",
        "\n",
        "ax.set_xlabel(\"Eje X\")\n",
        "ax.set_ylabel(\"Eje Y\")\n",
        "ax.set_zlabel(\"Eje Z\")\n",
        "\n",
        "plt.show();"
      ],
      "metadata": {
        "colab": {
          "base_uri": "https://localhost:8080/",
          "height": 248
        },
        "id": "mm9d5t2e-DvF",
        "outputId": "c9465b24-4237-4016-b451-a8639db40e7e"
      },
      "execution_count": null,
      "outputs": [
        {
          "output_type": "display_data",
          "data": {
            "image/png": "[encoded data removed]",
            "text/plain": [
              "<Figure size 432x288 with 1 Axes>"
            ]
          },
          "metadata": {
            "needs_background": "light"
          }
        }
      ]
    },
    {
      "cell_type": "code",
      "source": [
        "def plot_vectors(vectors, colors, alpha = 1): #alplah = trasparence of each vector\n",
        "    fig, ax = plt.subplots()\n",
        "\n",
        "    ax.axvline(x=0, color=\"grey\")\n",
        "    ax.axhline (y=0, color=\"grey\")\n",
        "\n",
        "    for i in range(len(vectors)):\n",
        "        x = np.concatenate([[0,0], vectors[i]]) #set origin point #add 0,0 as the vector were a tenson\n",
        "        ax.quiver(\n",
        "            [x[0]],\n",
        "            [x[1]],\n",
        "            [x[2]],\n",
        "            [x[3]],\n",
        "            angles ='xy' , scale_units= 'xy', scale = 1,\n",
        "            color = colors[i],\n",
        "            alpha = alpha\n",
        "        )\n",
        "    \n",
        "    return  ax\n",
        "\n",
        "def analyse_combination(v1,v2,lim1,lim2):\n",
        "    fig, ax = plt.subplots()\n",
        "    for a in range(-10,10):\n",
        "      for b in range(-10,10):\n",
        "        v1v2 = v1*a + v2*b\n",
        "        ax.scatter(v1v2[0],v1v2[1], marker='.')\n",
        "    plt.xlim(lim1*-1,lim1)\n",
        "    plt.ylim(lim1*-1,lim1)\n",
        "    plt.axvline(x=0, color='grey')\n",
        "    plt.axhline(y=0, color='grey')\n",
        "\n",
        "\n",
        "    plot_vectors([v1,v2],[\"orange\", \"blue\"])\n",
        "    plt.xlim(lim2*-1,lim2)\n",
        "    plt.ylim(lim2*-1,lim2)\n",
        "    \n",
        "    plt.axvline(x=0, color='grey')\n",
        "    plt.axhline(y=0, color='grey')\n",
        "\n",
        "    plt.show()\n",
        "\n",
        "vx = np.array([3,4])\n",
        "vy = np.array([5,-7])\n",
        "analyse_combination(vx, vy, 100,10)"
      ],
      "metadata": {
        "colab": {
          "base_uri": "https://localhost:8080/",
          "height": 521
        },
        "id": "1XYBXDLBBxcB",
        "outputId": "23efb0fb-1c5f-48ae-c577-f93023b40c46"
      },
      "execution_count": null,
      "outputs": [
        {
          "output_type": "display_data",
          "data": {
            "image/png": "[encoded data removed]",
            "text/plain": [
              "<Figure size 432x288 with 1 Axes>"
            ]
          },
          "metadata": {
            "needs_background": "light"
          }
        },
        {
          "output_type": "display_data",
          "data": {
            "image/png": "[encoded data removed]",
            "text/plain": [
              "<Figure size 432x288 with 1 Axes>"
            ]
          },
          "metadata": {
            "needs_background": "light"
          }
        }
      ]
    },
    {
      "cell_type": "markdown",
      "source": [
        "# Vectores linealmente independientes"
      ],
      "metadata": {
        "id": "nv6cxCLRDIRb"
      }
    },
    {
      "cell_type": "code",
      "source": [
        "%matplotlib inline\n",
        "import numpy as np\n",
        "import matplotlib.pyplot as plt\n"
      ],
      "metadata": {
        "id": "s3hXKNmrDMhS"
      },
      "execution_count": null,
      "outputs": []
    },
    {
      "cell_type": "code",
      "source": [
        "vx = np.array([1,1])\n",
        "vy = np.array([-1,-1])"
      ],
      "metadata": {
        "id": "1i5chM5MDdwb"
      },
      "execution_count": null,
      "outputs": []
    },
    {
      "cell_type": "code",
      "source": [
        "# Grafica el espacio generado por los vectores\n",
        "for a in range(-10, 10):\n",
        "  for b in range(-10, 10):\n",
        "    plt.scatter(vx[0]*a + vy[0]* b, vx[1]*a + vy[1]* b, marker='.', color = 'orange')\n",
        "    plt.xlim(-25, 25)\n",
        "    plt.ylim(-25, 25)\n",
        "\n",
        "plt.axvline(x=0, color = 'grey')\n",
        "plt.axhline(y=0, color = 'grey')\n",
        "\n",
        "plt.show();"
      ],
      "metadata": {
        "colab": {
          "base_uri": "https://localhost:8080/",
          "height": 265
        },
        "id": "OqYD-9ajDkOu",
        "outputId": "51653672-c907-4cd4-f177-f9955592673c"
      },
      "execution_count": null,
      "outputs": [
        {
          "output_type": "display_data",
          "data": {
            "image/png": "[encoded data removed]",
            "text/plain": [
              "<Figure size 432x288 with 1 Axes>"
            ]
          },
          "metadata": {
            "needs_background": "light"
          }
        }
      ]
    },
    {
      "cell_type": "code",
      "source": [
        "vx == -1*vy"
      ],
      "metadata": {
        "colab": {
          "base_uri": "https://localhost:8080/"
        },
        "id": "BVFsKkkyEhcW",
        "outputId": "41dfbaa7-5974-48cb-f5f6-7bdf9a33e8d2"
      },
      "execution_count": null,
      "outputs": [
        {
          "output_type": "execute_result",
          "data": {
            "text/plain": [
              "array([ True,  True])"
            ]
          },
          "metadata": {},
          "execution_count": 27
        }
      ]
    },
    {
      "cell_type": "markdown",
      "source": [
        "# Validar que una matriz tenga inversa"
      ],
      "metadata": {
        "id": "vu83t1_FE-xH"
      }
    },
    {
      "cell_type": "code",
      "source": [
        "import numpy as np"
      ],
      "metadata": {
        "id": "ev6FSdfsFDJv"
      },
      "execution_count": null,
      "outputs": []
    },
    {
      "cell_type": "code",
      "source": [
        "A = np.array(\n",
        "    [\n",
        "     [0,1,0,0],\n",
        "     [0,0,1,0],\n",
        "     [0,1,1,0],\n",
        "     [1,0,0,1]\n",
        "    ]\n",
        ")"
      ],
      "metadata": {
        "id": "6Xz9kSrvFGQM"
      },
      "execution_count": null,
      "outputs": []
    },
    {
      "cell_type": "code",
      "source": [
        "lambdas, V = np.linalg.eig(A.T) \n",
        "print(A[lambdas == 0, :])"
      ],
      "metadata": {
        "colab": {
          "base_uri": "https://localhost:8080/"
        },
        "id": "SCEYQxbDFchC",
        "outputId": "666f2b21-a337-4620-ed93-5fbe9dd294fa"
      },
      "execution_count": null,
      "outputs": [
        {
          "output_type": "stream",
          "name": "stdout",
          "text": [
            "[[0 1 1 0]]\n"
          ]
        }
      ]
    },
    {
      "cell_type": "markdown",
      "source": [
        "El vector [0,1,1,0] se puede escribir como la suma de [0,1,0,0] y [0,0,1,0]"
      ],
      "metadata": {
        "id": "yRvrqbuJF-xQ"
      }
    },
    {
      "cell_type": "code",
      "source": [
        "print(V)\n",
        "print(lambdas)"
      ],
      "metadata": {
        "colab": {
          "base_uri": "https://localhost:8080/"
        },
        "id": "cy6EZvwWG8R2",
        "outputId": "c1110eff-80d8-44b8-e298-e7b0c0b68750"
      },
      "execution_count": null,
      "outputs": [
        {
          "output_type": "stream",
          "name": "stdout",
          "text": [
            "[[ 0.00000000e+00  0.00000000e+00  5.77350269e-01  5.77350269e-01]\n",
            " [ 5.25731112e-01  8.50650808e-01  5.77350269e-01  1.54746258e-17]\n",
            " [ 8.50650808e-01 -5.25731112e-01 -5.77350269e-01 -5.77350269e-01]\n",
            " [ 0.00000000e+00  0.00000000e+00  0.00000000e+00  5.77350269e-01]]\n",
            "[ 1.61803399 -0.61803399  0.          1.        ]\n"
          ]
        }
      ]
    },
    {
      "cell_type": "code",
      "source": [
        "# Dado que uno de los vectores es LD, entonces la matriz es singular\n",
        "try:\n",
        "  np.linalg.inv(A)\n",
        "except np.linalg.LinAlgError:\n",
        "  print(\"La matriz es singular\")"
      ],
      "metadata": {
        "colab": {
          "base_uri": "https://localhost:8080/"
        },
        "id": "xcdWGValGJAp",
        "outputId": "f7ca5311-c8eb-479d-f808-9eda065ae93a"
      },
      "execution_count": null,
      "outputs": [
        {
          "output_type": "stream",
          "name": "stdout",
          "text": [
            "La matriz es singular\n"
          ]
        }
      ]
    },
    {
      "cell_type": "markdown",
      "source": [
        "# Qué es una norma y para qué se usa. Desiguadad triangular"
      ],
      "metadata": {
        "id": "MXmIU7SjHEDH"
      }
    },
    {
      "cell_type": "markdown",
      "source": [
        "Norma:\n",
        "Es un número asociado al vector, podemos verlo como su longitud. Cumple las siguientes propiedades.\n",
        "\n",
        "+ norma(v) >=0\n",
        "+ norma(v) = 0 → v = 0\n",
        "+ v1 + v2 = v3 → norma(v1) + norma(v2) >= norma(v3)\n",
        "+ norma(av) = abs(a)*norma(v)"
      ],
      "metadata": {
        "id": "6UidoxOgHcee"
      }
    },
    {
      "cell_type": "code",
      "source": [
        "%matplotlib inline\n",
        "import numpy as np\n",
        "import matplotlib.pyplot as plt\n",
        "import seaborn as sns"
      ],
      "metadata": {
        "id": "HgHJUPusHLgy"
      },
      "execution_count": null,
      "outputs": []
    },
    {
      "cell_type": "code",
      "source": [
        "vx = np.array([2,7])\n",
        "vy = np.array([3,5])"
      ],
      "metadata": {
        "id": "NwQN0VhtH634"
      },
      "execution_count": null,
      "outputs": []
    },
    {
      "cell_type": "code",
      "source": [
        "vz = vx + vy\n",
        "vz"
      ],
      "metadata": {
        "colab": {
          "base_uri": "https://localhost:8080/"
        },
        "id": "tRnFMUQYIJz4",
        "outputId": "38d8c75e-442f-4a05-ac1e-70200b360b25"
      },
      "execution_count": null,
      "outputs": [
        {
          "output_type": "execute_result",
          "data": {
            "text/plain": [
              "array([ 5, 12])"
            ]
          },
          "metadata": {},
          "execution_count": 35
        }
      ]
    },
    {
      "cell_type": "code",
      "source": [
        "np.linalg.norm(vz)"
      ],
      "metadata": {
        "colab": {
          "base_uri": "https://localhost:8080/"
        },
        "id": "q_9WyTQWIOXJ",
        "outputId": "5311f78e-cb7c-44e5-8a84-926b42a66373"
      },
      "execution_count": null,
      "outputs": [
        {
          "output_type": "execute_result",
          "data": {
            "text/plain": [
              "13.0"
            ]
          },
          "metadata": {},
          "execution_count": 36
        }
      ]
    },
    {
      "cell_type": "code",
      "source": [
        "# Norma de vz debe ser <= norma(vx) + norma(vy)\n",
        "# Se comprueba la desigualdad triangular\n",
        "norma_vx = np.linalg.norm(vx)\n",
        "norma_vy = np.linalg.norm(vy)\n",
        "norma_vz = np.linalg.norm(vz)\n",
        "\n",
        "print(norma_vz <= norma_vx + norma_vy)"
      ],
      "metadata": {
        "colab": {
          "base_uri": "https://localhost:8080/"
        },
        "id": "TFO1bQi3IV5q",
        "outputId": "f429813f-90fc-4f84-8dea-7e872a518459"
      },
      "execution_count": null,
      "outputs": [
        {
          "output_type": "stream",
          "name": "stdout",
          "text": [
            "True\n"
          ]
        }
      ]
    },
    {
      "cell_type": "code",
      "source": [
        "vx = np.array([0,0,2,7]) # Escribimos el origen del vector (0,0) y el final (2,7)\n",
        "vy = np.array([0,0,3,5])\n",
        "\n",
        "v_aux =np.array([vx[2], vx[3], vy[2], vy[3]])\n",
        "vz = np.array([0,0,5,12])"
      ],
      "metadata": {
        "id": "wY2rlRwRI-ep"
      },
      "execution_count": null,
      "outputs": []
    },
    {
      "cell_type": "code",
      "source": [
        "plt.quiver([vx[0], v_aux[0], vz[0]],\n",
        "           [vx[1], v_aux[1], vz[1]],\n",
        "           [vx[2], v_aux[2], vz[2]],\n",
        "           [vx[3], v_aux[3], vz[3]],\n",
        "           angles = 'xy', scale_units = 'xy', scale = 1,\n",
        "           color = sns.color_palette()\n",
        "           )\n",
        "plt.xlim(-0.5, 6)\n",
        "plt.ylim(-0.5, 15);"
      ],
      "metadata": {
        "colab": {
          "base_uri": "https://localhost:8080/",
          "height": 265
        },
        "id": "2o1oADpwJg8y",
        "outputId": "38edfd4e-a112-4a9f-9cd9-93466925500a"
      },
      "execution_count": null,
      "outputs": [
        {
          "output_type": "display_data",
          "data": {
            "image/png": "[encoded data removed]",
            "text/plain": [
              "<Figure size 432x288 with 1 Axes>"
            ]
          },
          "metadata": {
            "needs_background": "light"
          }
        }
      ]
    },
    {
      "cell_type": "markdown",
      "source": [
        "# Tipos de normas: norma 0, norma 1, norma 2, norma infinito y norma L2 al cuadrado\n",
        "\n",
        "+ La norma se usa en machine learning para encontrar errores.\n",
        "\n",
        "+ La norma L0: devuelve la cantidad de elementos diferentes de 0 del vector.\n",
        "\n",
        "+ La norma L1: devuelve la suma de los valores absolutos de los elementos del vector.\n",
        "\n",
        "+ La norma L2: La magnitud del vector desde su origen.\n",
        "\n",
        "+ La norma infinito: devuelve el valor absoluto más grande del vector"
      ],
      "metadata": {
        "id": "91zzEKScKSH-"
      }
    },
    {
      "cell_type": "code",
      "source": [
        "vector = np.array([1,2,0,5,6,0])\n",
        "print(np.linalg.norm(vector, ord=0))"
      ],
      "metadata": {
        "colab": {
          "base_uri": "https://localhost:8080/"
        },
        "id": "cgQoHZ-xLD7s",
        "outputId": "d97d3b10-fdb6-4818-a4d4-987458b88487"
      },
      "execution_count": null,
      "outputs": [
        {
          "output_type": "stream",
          "name": "stdout",
          "text": [
            "4.0\n"
          ]
        }
      ]
    },
    {
      "cell_type": "markdown",
      "source": [
        "**Utilidad de cálculo de la norma cero**\n",
        "\n",
        "Si el vector contiene las compras de los clientes, al calcular la norma 0 se obtiene el total de clientes que compraron"
      ],
      "metadata": {
        "id": "aUeuMD8tLgUr"
      }
    },
    {
      "cell_type": "code",
      "source": [
        "vector = np.array([1,-1,1,1,6,0])\n",
        "print(np.linalg.norm(vector, ord=1))"
      ],
      "metadata": {
        "colab": {
          "base_uri": "https://localhost:8080/"
        },
        "id": "I_nrPYhBLY8s",
        "outputId": "a4f2c768-ef4a-4257-ac16-87b676414e99"
      },
      "execution_count": null,
      "outputs": [
        {
          "output_type": "stream",
          "name": "stdout",
          "text": [
            "10.0\n"
          ]
        }
      ]
    },
    {
      "cell_type": "code",
      "source": [
        "vector = np.array([1,1])\n",
        "print(np.linalg.norm(vector))\n",
        "print(np.linalg.norm(vector, ord=2))"
      ],
      "metadata": {
        "colab": {
          "base_uri": "https://localhost:8080/"
        },
        "id": "ajRCLRjXL8MJ",
        "outputId": "b87284bf-7be3-493f-d5eb-28b5676dfcc5"
      },
      "execution_count": null,
      "outputs": [
        {
          "output_type": "stream",
          "name": "stdout",
          "text": [
            "1.4142135623730951\n",
            "1.4142135623730951\n"
          ]
        }
      ]
    },
    {
      "cell_type": "code",
      "source": [
        "vector = np.array([1,2,3,4,5,6])\n",
        "print(np.linalg.norm(vector, ord=2)**2)"
      ],
      "metadata": {
        "colab": {
          "base_uri": "https://localhost:8080/"
        },
        "id": "FsMlc7nKMgYA",
        "outputId": "f956e6c5-d013-4f40-cee8-837ed730532d"
      },
      "execution_count": null,
      "outputs": [
        {
          "output_type": "stream",
          "name": "stdout",
          "text": [
            "91.0\n"
          ]
        }
      ]
    },
    {
      "cell_type": "code",
      "source": [
        "print(vector.T.dot(vector))"
      ],
      "metadata": {
        "colab": {
          "base_uri": "https://localhost:8080/"
        },
        "id": "X6A5aA0HMryK",
        "outputId": "c3c99194-9d84-4e16-98ec-d9e99cb5554c"
      },
      "execution_count": null,
      "outputs": [
        {
          "output_type": "stream",
          "name": "stdout",
          "text": [
            "91\n"
          ]
        }
      ]
    },
    {
      "cell_type": "code",
      "source": [
        "vector = np.array([1,2,3,-100])\n",
        "print(np.linalg.norm(vector, ord=np.inf))"
      ],
      "metadata": {
        "colab": {
          "base_uri": "https://localhost:8080/"
        },
        "id": "7pbDgX4tM0td",
        "outputId": "41433857-998f-4c2b-98d2-535ccc8cc54d"
      },
      "execution_count": null,
      "outputs": [
        {
          "output_type": "stream",
          "name": "stdout",
          "text": [
            "100.0\n"
          ]
        }
      ]
    },
    {
      "cell_type": "markdown",
      "source": [
        "# El producto interno como función de una norma y su visualización"
      ],
      "metadata": {
        "id": "sUNrMLa1NLJf"
      }
    },
    {
      "cell_type": "code",
      "source": [
        "vx = np.array([0,0,0,3])\n",
        "vy = np.array([0,0,3,3])"
      ],
      "metadata": {
        "id": "lq07ja0tNQYQ"
      },
      "execution_count": null,
      "outputs": []
    },
    {
      "cell_type": "code",
      "source": [
        "plt.xlim(-2,6)\n",
        "plt.ylim(-2,6)\n",
        "\n",
        "plt.quiver([vx[0], vy[0]], \n",
        "           [vx[1], vy[1]], [vx[2], vy[2]], [vx[3], vy[3]],\n",
        "           angles = 'xy', scale_units = 'xy', scale = 1, color = sns.color_palette())\n",
        "\n",
        "plt.show()"
      ],
      "metadata": {
        "colab": {
          "base_uri": "https://localhost:8080/",
          "height": 269
        },
        "id": "3zys6a7iNt1b",
        "outputId": "68a8b2a5-d316-4f3f-aff0-4695b66b0743"
      },
      "execution_count": null,
      "outputs": [
        {
          "output_type": "display_data",
          "data": {
            "image/png": "[encoded data removed]",
            "text/plain": [
              "<Figure size 432x288 with 1 Axes>"
            ]
          },
          "metadata": {
            "needs_background": "light"
          }
        }
      ]
    },
    {
      "cell_type": "code",
      "source": [
        "# Vectores sin incluir el origen\n",
        "vx = np.array([0,3])\n",
        "vy = np.array([3,3])\n",
        "\n",
        "print(vx.T.dot(vy))"
      ],
      "metadata": {
        "colab": {
          "base_uri": "https://localhost:8080/"
        },
        "id": "Mpfzaa1jO4FJ",
        "outputId": "53ed9d4c-e00c-4c6e-cdea-6042e4ece317"
      },
      "execution_count": null,
      "outputs": [
        {
          "output_type": "stream",
          "name": "stdout",
          "text": [
            "9\n"
          ]
        }
      ]
    },
    {
      "cell_type": "code",
      "source": [
        "norma_vx = np.linalg.norm(vx)\n",
        "norma_vy = np.linalg.norm(vy)\n",
        "\n",
        "print(norma_vx * norma_vy * np.cos(np.deg2rad(45)))"
      ],
      "metadata": {
        "colab": {
          "base_uri": "https://localhost:8080/"
        },
        "id": "ENR7PevIPFTZ",
        "outputId": "2d90add3-a4e0-4718-cbc1-72805538776a"
      },
      "execution_count": null,
      "outputs": [
        {
          "output_type": "stream",
          "name": "stdout",
          "text": [
            "9.0\n"
          ]
        }
      ]
    },
    {
      "cell_type": "markdown",
      "source": [
        "cos(x) = $v_{1}v_{2}$ / norma($v_{1}$)*norma($v_{2}$)\n",
        "\n",
        "**Producto interno en función de la norma**\n",
        "\n",
        "El producto interno de dos vectores es numéricamente igual a la multiplicación de las normas (de orden 2) de estos vectores por el coseno que forman:\n",
        "\n",
        "$v_{1}$.dot($v_{2}$) = norm_2($v_{1}$)*norm_2($v_{2}$)*cos(α)\n",
        "\n",
        "Notas:\n",
        "\n",
        "+ Hallar cosenos en python: np.cos() #solo admite radianes\n",
        "Convertir grados sexagesimales a radianes: np.deg2rad()\n",
        "\n",
        "+ En ML usamos esta igualdad para hallar la similitud coseno, mientras más pequeño el ángulo entre dos vectores más similares son"
      ],
      "metadata": {
        "id": "vx_Cy_BmPhkb"
      }
    },
    {
      "cell_type": "markdown",
      "source": [
        "# Matriz diagonal y matriz simétrica: sus propiedades"
      ],
      "metadata": {
        "id": "TXON8zM5QL2n"
      }
    },
    {
      "cell_type": "code",
      "source": [
        "vector = np.array([1,2,3,4,5])\n",
        "matriz = np.diag(vector)\n",
        "matriz"
      ],
      "metadata": {
        "colab": {
          "base_uri": "https://localhost:8080/"
        },
        "id": "hCiyMpEHQQmY",
        "outputId": "997c1673-96b4-410e-c190-eed28b185f3d"
      },
      "execution_count": null,
      "outputs": [
        {
          "output_type": "execute_result",
          "data": {
            "text/plain": [
              "array([[1, 0, 0, 0, 0],\n",
              "       [0, 2, 0, 0, 0],\n",
              "       [0, 0, 3, 0, 0],\n",
              "       [0, 0, 0, 4, 0],\n",
              "       [0, 0, 0, 0, 5]])"
            ]
          },
          "metadata": {},
          "execution_count": 59
        }
      ]
    },
    {
      "cell_type": "code",
      "source": [
        "# Matriz diagonal, no cuadrada\n",
        "print(matriz[0:4, 0:3])"
      ],
      "metadata": {
        "colab": {
          "base_uri": "https://localhost:8080/"
        },
        "id": "4BVyaFnZQqPP",
        "outputId": "87aa770f-83e9-43f9-ba1f-973ddfcfc077"
      },
      "execution_count": null,
      "outputs": [
        {
          "output_type": "stream",
          "name": "stdout",
          "text": [
            "[[1 0 0]\n",
            " [0 2 0]\n",
            " [0 0 3]\n",
            " [0 0 0]]\n"
          ]
        }
      ]
    },
    {
      "cell_type": "code",
      "source": [
        "# Otra matriz diagonal no cuadrada\n",
        "print(matriz[0:3, 0:4])"
      ],
      "metadata": {
        "colab": {
          "base_uri": "https://localhost:8080/"
        },
        "id": "nWyhA3dFQ3km",
        "outputId": "c81bdbba-8b18-41fe-87c3-303f9ae2756e"
      },
      "execution_count": null,
      "outputs": [
        {
          "output_type": "stream",
          "name": "stdout",
          "text": [
            "[[1 0 0 0]\n",
            " [0 2 0 0]\n",
            " [0 0 3 0]]\n"
          ]
        }
      ]
    },
    {
      "cell_type": "code",
      "source": [
        "A = np.diag([2,3,4,5])\n",
        "A"
      ],
      "metadata": {
        "colab": {
          "base_uri": "https://localhost:8080/"
        },
        "id": "4ThMdw-ZQ7su",
        "outputId": "e529a1c3-8c19-44a4-888e-481240d77a9f"
      },
      "execution_count": null,
      "outputs": [
        {
          "output_type": "execute_result",
          "data": {
            "text/plain": [
              "array([[2, 0, 0, 0],\n",
              "       [0, 3, 0, 0],\n",
              "       [0, 0, 4, 0],\n",
              "       [0, 0, 0, 5]])"
            ]
          },
          "metadata": {},
          "execution_count": 62
        }
      ]
    },
    {
      "cell_type": "code",
      "source": [
        "v = np.array([[1,1,1,1]])\n",
        "v"
      ],
      "metadata": {
        "colab": {
          "base_uri": "https://localhost:8080/"
        },
        "id": "PvdnzKlDRMAC",
        "outputId": "9ad01d3b-4ceb-4a9d-c64e-eee4738644af"
      },
      "execution_count": null,
      "outputs": [
        {
          "output_type": "execute_result",
          "data": {
            "text/plain": [
              "array([[1, 1, 1, 1]])"
            ]
          },
          "metadata": {},
          "execution_count": 65
        }
      ]
    },
    {
      "cell_type": "code",
      "source": [
        "A.dot(v.T)"
      ],
      "metadata": {
        "colab": {
          "base_uri": "https://localhost:8080/"
        },
        "id": "kYicBUY0RRYq",
        "outputId": "cebbb4fc-8160-4c27-8216-4c96f05aa156"
      },
      "execution_count": null,
      "outputs": [
        {
          "output_type": "execute_result",
          "data": {
            "text/plain": [
              "array([[2],\n",
              "       [3],\n",
              "       [4],\n",
              "       [5]])"
            ]
          },
          "metadata": {},
          "execution_count": 66
        }
      ]
    },
    {
      "cell_type": "code",
      "source": [
        "A_inv = np.diag([1/2, 1/3, 1/4, 1/5])\n",
        "A_inv"
      ],
      "metadata": {
        "colab": {
          "base_uri": "https://localhost:8080/"
        },
        "id": "fJ1yRiyNRqBu",
        "outputId": "53ec8730-2980-45b5-f6e2-57189f638d82"
      },
      "execution_count": null,
      "outputs": [
        {
          "output_type": "execute_result",
          "data": {
            "text/plain": [
              "array([[0.5       , 0.        , 0.        , 0.        ],\n",
              "       [0.        , 0.33333333, 0.        , 0.        ],\n",
              "       [0.        , 0.        , 0.25      , 0.        ],\n",
              "       [0.        , 0.        , 0.        , 0.2       ]])"
            ]
          },
          "metadata": {},
          "execution_count": 67
        }
      ]
    },
    {
      "cell_type": "code",
      "source": [
        "identidad = A.dot(A_inv)\n",
        "identidad"
      ],
      "metadata": {
        "colab": {
          "base_uri": "https://localhost:8080/"
        },
        "id": "z-T_jynERzNH",
        "outputId": "499ef9e8-84cd-4e05-cf13-46d6c38d0aed"
      },
      "execution_count": null,
      "outputs": [
        {
          "output_type": "execute_result",
          "data": {
            "text/plain": [
              "array([[1., 0., 0., 0.],\n",
              "       [0., 1., 0., 0.],\n",
              "       [0., 0., 1., 0.],\n",
              "       [0., 0., 0., 1.]])"
            ]
          },
          "metadata": {},
          "execution_count": 69
        }
      ]
    },
    {
      "cell_type": "code",
      "source": [
        "np.linalg.inv(A)"
      ],
      "metadata": {
        "colab": {
          "base_uri": "https://localhost:8080/"
        },
        "id": "Oo4dYj-LSBLy",
        "outputId": "96a1e8a5-ea90-4fd3-b045-e38dfe24ad14"
      },
      "execution_count": null,
      "outputs": [
        {
          "output_type": "execute_result",
          "data": {
            "text/plain": [
              "array([[0.5       , 0.        , 0.        , 0.        ],\n",
              "       [0.        , 0.33333333, 0.        , 0.        ],\n",
              "       [0.        , 0.        , 0.25      , 0.        ],\n",
              "       [0.        , 0.        , 0.        , 0.2       ]])"
            ]
          },
          "metadata": {},
          "execution_count": 70
        }
      ]
    },
    {
      "cell_type": "markdown",
      "source": [
        "Matriz simética : $A = A^{T}$"
      ],
      "metadata": {
        "id": "eHIu5ykoSNj0"
      }
    },
    {
      "cell_type": "code",
      "source": [
        "A == A.T"
      ],
      "metadata": {
        "colab": {
          "base_uri": "https://localhost:8080/"
        },
        "id": "f6k7jjlASU4Y",
        "outputId": "9f1bf572-d1c8-4d8f-a1f5-72a519ea4eb7"
      },
      "execution_count": null,
      "outputs": [
        {
          "output_type": "execute_result",
          "data": {
            "text/plain": [
              "array([[ True,  True,  True,  True],\n",
              "       [ True,  True,  True,  True],\n",
              "       [ True,  True,  True,  True],\n",
              "       [ True,  True,  True,  True]])"
            ]
          },
          "metadata": {},
          "execution_count": 71
        }
      ]
    },
    {
      "cell_type": "code",
      "source": [
        "simetrica = np.array([[1,2,3],\n",
        "                      [2,-1,7],\n",
        "                      [3,7,11]])\n",
        "simetrica"
      ],
      "metadata": {
        "colab": {
          "base_uri": "https://localhost:8080/"
        },
        "id": "LZZXtr9cSZn0",
        "outputId": "4fcec70a-2676-4241-a1ee-348570a78679"
      },
      "execution_count": null,
      "outputs": [
        {
          "output_type": "execute_result",
          "data": {
            "text/plain": [
              "array([[ 1,  2,  3],\n",
              "       [ 2, -1,  7],\n",
              "       [ 3,  7, 11]])"
            ]
          },
          "metadata": {},
          "execution_count": 72
        }
      ]
    },
    {
      "cell_type": "code",
      "source": [
        "simetrica.T"
      ],
      "metadata": {
        "colab": {
          "base_uri": "https://localhost:8080/"
        },
        "id": "txBeORPiSjoc",
        "outputId": "fd2d461f-ba34-4df9-f029-b608ed7d2830"
      },
      "execution_count": null,
      "outputs": [
        {
          "output_type": "execute_result",
          "data": {
            "text/plain": [
              "array([[ 1,  2,  3],\n",
              "       [ 2, -1,  7],\n",
              "       [ 3,  7, 11]])"
            ]
          },
          "metadata": {},
          "execution_count": 73
        }
      ]
    },
    {
      "cell_type": "markdown",
      "source": [
        "# Vectores ortogonales, matrices ortogonales y sus propiedades\n",
        "\n",
        "+ Un vector no puede ser ortogonal en solitario para serlo debe hacer referencia a otro vector, por lo tanto, cuando hablemos de este tipo de vector nos estaremos refiriendo a dos mas vectores.\n",
        "\n",
        "+ Ser ortogonal es que el ángulo que formen estos vectores sea de 90 grados."
      ],
      "metadata": {
        "id": "L3NLdIopSzyy"
      }
    },
    {
      "cell_type": "code",
      "source": [
        "%matplotlib inline\n",
        "\n",
        "import numpy as np\n",
        "import matplotlib.pyplot as plt\n",
        "\n",
        "A = np.array([0,0,2,2])\n",
        "B = np.array([0,0,2,-2])\n",
        "\n",
        "plt.quiver([A[0], B[0]],\n",
        "          [A[1], B[1]],\n",
        "          [A[2], B[2]],\n",
        "          [A[3], B[3]],\n",
        "           angles='xy', scale_units='xy', \n",
        "           scale=1,\n",
        "          )\n",
        "plt.xlim(-2,4)\n",
        "plt.ylim(-3,3)\n",
        "\n",
        "plt.show() # Muestra dos vectores que forman 90 grados.\n",
        "\n",
        "v1 = np.array([2,2])\n",
        "v2 = np.array([2,-2])\n",
        "\n",
        "print(v1.dot(v2.T)) # Si nos muestra 0 es porque tienen 90 grados.\n",
        "\n",
        "# Para que un vector sea ortonormal su normal debe ser 1.\n",
        "\n",
        "print(np.linalg.norm(v1)) # 2.82\n",
        "print(np.linalg.norm(v2)) # 2.82\n",
        "\n",
        "# Ya que no nos da 1 su norma concluimos que no son ortonormales.\n",
        "# Pero para lograr que un vector sea ortonormal lo unico que debo realizar\n",
        "# Es dividir cada uno de sus elementos por su norma.\n",
        "\n",
        "vector_ortonormal = v1 * (1/np.linalg.norm(v1))\n",
        "print(np.linalg.norm(vector_ortonormal)) # Nos devuelve 1."
      ],
      "metadata": {
        "colab": {
          "base_uri": "https://localhost:8080/",
          "height": 338
        },
        "id": "yV3haL-vS4d_",
        "outputId": "e9fc0a99-0c8f-42ae-f152-d78ac2ce90e6"
      },
      "execution_count": null,
      "outputs": [
        {
          "output_type": "display_data",
          "data": {
            "image/png": "[encoded data removed]",
            "text/plain": [
              "<Figure size 432x288 with 1 Axes>"
            ]
          },
          "metadata": {
            "needs_background": "light"
          }
        },
        {
          "output_type": "stream",
          "name": "stdout",
          "text": [
            "0\n",
            "2.8284271247461903\n",
            "2.8284271247461903\n",
            "0.9999999999999999\n"
          ]
        }
      ]
    },
    {
      "cell_type": "markdown",
      "source": [
        "**Teorema:** Si n vectores son ortogonales, entonces son linealmente independientes y generan el espacio $R^{n}$, es decir, cualquier conjunto de n vectores ortigonales forman una base de $R^{n}$"
      ],
      "metadata": {
        "id": "TtajqVVgTohT"
      }
    },
    {
      "cell_type": "markdown",
      "source": [
        "# Matrices ortonormales y sus propiedades"
      ],
      "metadata": {
        "id": "mHYEnnr9anEx"
      }
    },
    {
      "cell_type": "code",
      "source": [
        "#matriz = np.array([[1,0,0],[0,1,0], [0,0,1]])\n",
        "matriz = np.identity(3)\n",
        "matriz"
      ],
      "metadata": {
        "colab": {
          "base_uri": "https://localhost:8080/"
        },
        "id": "lIRt4ziLarG7",
        "outputId": "e89d8be6-1904-46f9-f3a5-95d669cf6405"
      },
      "execution_count": null,
      "outputs": [
        {
          "output_type": "execute_result",
          "data": {
            "text/plain": [
              "array([[1., 0., 0.],\n",
              "       [0., 1., 0.],\n",
              "       [0., 0., 1.]])"
            ]
          },
          "metadata": {},
          "execution_count": 75
        }
      ]
    },
    {
      "cell_type": "code",
      "source": [
        "matriz[:,0].dot(matriz[:,1])"
      ],
      "metadata": {
        "colab": {
          "base_uri": "https://localhost:8080/"
        },
        "id": "93aPHdrFbidu",
        "outputId": "f45d9334-1bd5-40ec-b902-5fbd011ad943"
      },
      "execution_count": null,
      "outputs": [
        {
          "output_type": "execute_result",
          "data": {
            "text/plain": [
              "0.0"
            ]
          },
          "metadata": {},
          "execution_count": 76
        }
      ]
    },
    {
      "cell_type": "code",
      "source": [
        "matriz[:,0].dot(matriz[:,2])"
      ],
      "metadata": {
        "colab": {
          "base_uri": "https://localhost:8080/"
        },
        "id": "y4fnzF8Mb4Oq",
        "outputId": "28df5d5b-720f-4013-f643-ef7541188d85"
      },
      "execution_count": null,
      "outputs": [
        {
          "output_type": "execute_result",
          "data": {
            "text/plain": [
              "0.0"
            ]
          },
          "metadata": {},
          "execution_count": 77
        }
      ]
    },
    {
      "cell_type": "code",
      "source": [
        "matriz[:,1].dot(matriz[:,2])"
      ],
      "metadata": {
        "colab": {
          "base_uri": "https://localhost:8080/"
        },
        "id": "DK8JvIp8b7wv",
        "outputId": "daa46a32-834b-4abe-c82e-e06c380ba99d"
      },
      "execution_count": null,
      "outputs": [
        {
          "output_type": "execute_result",
          "data": {
            "text/plain": [
              "0.0"
            ]
          },
          "metadata": {},
          "execution_count": 78
        }
      ]
    },
    {
      "cell_type": "code",
      "source": [
        "# Normas de los vectores\n",
        "print(np.linalg.norm(matriz[:,0]))\n",
        "print(np.linalg.norm(matriz[:,1]))\n",
        "print(np.linalg.norm(matriz[:,2]))"
      ],
      "metadata": {
        "colab": {
          "base_uri": "https://localhost:8080/"
        },
        "id": "LeAoX8zwb_qT",
        "outputId": "59cb459d-dd4e-4f4d-b25a-6f386773b471"
      },
      "execution_count": null,
      "outputs": [
        {
          "output_type": "stream",
          "name": "stdout",
          "text": [
            "1.0\n",
            "1.0\n",
            "1.0\n"
          ]
        }
      ]
    },
    {
      "cell_type": "markdown",
      "source": [
        "Dado el resutado anterior, es posible asegurar que son **ORTONORMALES**"
      ],
      "metadata": {
        "id": "8LjNhlp2cVHM"
      }
    },
    {
      "cell_type": "code",
      "source": [
        "print(matriz[0,:].dot(matriz[1,:]))\n",
        "print(matriz[0,:].dot(matriz[2,:]))\n",
        "print(matriz[1,:].dot(matriz[2,:]))"
      ],
      "metadata": {
        "colab": {
          "base_uri": "https://localhost:8080/"
        },
        "id": "i3yucX9Vcb1S",
        "outputId": "e801d33e-1471-4c91-d784-8783fadc65bf"
      },
      "execution_count": null,
      "outputs": [
        {
          "output_type": "stream",
          "name": "stdout",
          "text": [
            "0.0\n",
            "0.0\n",
            "0.0\n"
          ]
        }
      ]
    },
    {
      "cell_type": "code",
      "source": [
        "print(np.linalg.norm(matriz[0,:]))\n",
        "print(np.linalg.norm(matriz[1,:]))\n",
        "print(np.linalg.norm(matriz[2,:]))"
      ],
      "metadata": {
        "colab": {
          "base_uri": "https://localhost:8080/"
        },
        "id": "G7Bl0UTIcsDl",
        "outputId": "039a8979-823b-40d5-cccb-69a5650b7445"
      },
      "execution_count": null,
      "outputs": [
        {
          "output_type": "stream",
          "name": "stdout",
          "text": [
            "1.0\n",
            "1.0\n",
            "1.0\n"
          ]
        }
      ]
    },
    {
      "cell_type": "markdown",
      "source": [
        "**Propiedad de una matriz ortogonal**\n",
        "\n",
        "$A^{T}*A = A*A^{T} = I$\n",
        "\n",
        "Por lo tanto,\n",
        "\n",
        "$A^{T} = A^{-1}$"
      ],
      "metadata": {
        "id": "09H_yROec_dT"
      }
    },
    {
      "cell_type": "code",
      "source": [
        "A = np.array([[np.cos(100), -np.sin(100)],\n",
        "              [np.sin(100), np.cos(100)]\n",
        "              ])\n",
        "A"
      ],
      "metadata": {
        "colab": {
          "base_uri": "https://localhost:8080/"
        },
        "id": "gax9bKcadYDr",
        "outputId": "8fa24835-05de-41c9-90c1-5eef8ef8e63c"
      },
      "execution_count": null,
      "outputs": [
        {
          "output_type": "execute_result",
          "data": {
            "text/plain": [
              "array([[ 0.86231887,  0.50636564],\n",
              "       [-0.50636564,  0.86231887]])"
            ]
          },
          "metadata": {},
          "execution_count": 83
        }
      ]
    },
    {
      "cell_type": "code",
      "source": [
        "# Comprobación que es ortogonal\n",
        "print(np.linalg.norm(A[0,:]))\n",
        "print(np.linalg.norm(A[1,:]))\n",
        "print(np.linalg.norm(A[:,0]))\n",
        "print(np.linalg.norm(A[:,1]))"
      ],
      "metadata": {
        "colab": {
          "base_uri": "https://localhost:8080/"
        },
        "id": "Uo-Jtxphdpmh",
        "outputId": "e3ce11f1-fab2-4794-c98c-66dc43ee7bac"
      },
      "execution_count": null,
      "outputs": [
        {
          "output_type": "stream",
          "name": "stdout",
          "text": [
            "0.9999999999999999\n",
            "0.9999999999999999\n",
            "0.9999999999999999\n",
            "0.9999999999999999\n"
          ]
        }
      ]
    },
    {
      "cell_type": "code",
      "source": [
        "print(A[0,:].dot(A[1,:]))\n",
        "print(A[:,0].dot(A[:,1]))"
      ],
      "metadata": {
        "colab": {
          "base_uri": "https://localhost:8080/"
        },
        "id": "T8z6ePlZd6Z7",
        "outputId": "719de268-cf81-4e7a-9ef8-1ee295003e13"
      },
      "execution_count": null,
      "outputs": [
        {
          "output_type": "stream",
          "name": "stdout",
          "text": [
            "0.0\n",
            "0.0\n"
          ]
        }
      ]
    },
    {
      "cell_type": "code",
      "source": [
        "print(A.T.dot(A))\n",
        "print(A.dot(A.T))"
      ],
      "metadata": {
        "colab": {
          "base_uri": "https://localhost:8080/"
        },
        "id": "zzq3Zt--eKhX",
        "outputId": "05abf0be-1151-4daa-b683-070e494d1017"
      },
      "execution_count": null,
      "outputs": [
        {
          "output_type": "stream",
          "name": "stdout",
          "text": [
            "[[ 1.00000000e+00 -7.93771519e-18]\n",
            " [-7.93771519e-18  1.00000000e+00]]\n",
            "[[1.00000000e+00 7.93771519e-18]\n",
            " [7.93771519e-18 1.00000000e+00]]\n"
          ]
        }
      ]
    },
    {
      "cell_type": "code",
      "source": [
        "np.linalg.inv(A)"
      ],
      "metadata": {
        "colab": {
          "base_uri": "https://localhost:8080/"
        },
        "id": "9Zck9OfuemA0",
        "outputId": "00517707-ecbd-43a2-867a-c4b9330b1491"
      },
      "execution_count": null,
      "outputs": [
        {
          "output_type": "execute_result",
          "data": {
            "text/plain": [
              "array([[ 0.86231887, -0.50636564],\n",
              "       [ 0.50636564,  0.86231887]])"
            ]
          },
          "metadata": {},
          "execution_count": 87
        }
      ]
    },
    {
      "cell_type": "code",
      "source": [
        "A.T"
      ],
      "metadata": {
        "colab": {
          "base_uri": "https://localhost:8080/"
        },
        "id": "xt1PIbLVet2T",
        "outputId": "bfa4ccfc-b19e-49ca-d11d-87b214a5999b"
      },
      "execution_count": null,
      "outputs": [
        {
          "output_type": "execute_result",
          "data": {
            "text/plain": [
              "array([[ 0.86231887, -0.50636564],\n",
              "       [ 0.50636564,  0.86231887]])"
            ]
          },
          "metadata": {},
          "execution_count": 88
        }
      ]
    },
    {
      "cell_type": "code",
      "source": [
        "print(1/A.T.dot(A))"
      ],
      "metadata": {
        "colab": {
          "base_uri": "https://localhost:8080/"
        },
        "id": "p-3eCq_OexNv",
        "outputId": "c3c7ddb0-e3b4-42f9-8908-bb0ba987f93b"
      },
      "execution_count": null,
      "outputs": [
        {
          "output_type": "stream",
          "name": "stdout",
          "text": [
            "[[ 1.00000000e+00 -1.25980837e+17]\n",
            " [-1.25980837e+17  1.00000000e+00]]\n"
          ]
        }
      ]
    },
    {
      "cell_type": "markdown",
      "source": [
        "# El determinante y la traza"
      ],
      "metadata": {
        "id": "JK72nwWmfMNr"
      }
    },
    {
      "cell_type": "code",
      "source": [
        "matriz = np.array([[1,2,3],\n",
        "                   [4,5,6],\n",
        "                   [7,8,9]])\n",
        "matriz"
      ],
      "metadata": {
        "colab": {
          "base_uri": "https://localhost:8080/"
        },
        "id": "7ate38cUfPq-",
        "outputId": "7b2c18bd-1dbd-495d-f29d-4cacc67e74c9"
      },
      "execution_count": null,
      "outputs": [
        {
          "output_type": "execute_result",
          "data": {
            "text/plain": [
              "array([[1, 2, 3],\n",
              "       [4, 5, 6],\n",
              "       [7, 8, 9]])"
            ]
          },
          "metadata": {},
          "execution_count": 90
        }
      ]
    },
    {
      "cell_type": "code",
      "source": [
        "np.trace(matriz) # Valor es igual a la suma de los elementos de la DP"
      ],
      "metadata": {
        "colab": {
          "base_uri": "https://localhost:8080/"
        },
        "id": "R5jvVLLrfmmW",
        "outputId": "a4c3eef3-b081-4cec-c9c7-9730be1d7f5b"
      },
      "execution_count": null,
      "outputs": [
        {
          "output_type": "execute_result",
          "data": {
            "text/plain": [
              "15"
            ]
          },
          "metadata": {},
          "execution_count": 91
        }
      ]
    },
    {
      "cell_type": "code",
      "source": [
        "vx = np.array([0,1])\n",
        "vy = np.array([1,0])"
      ],
      "metadata": {
        "id": "U7Uh7jGVgCsg"
      },
      "execution_count": null,
      "outputs": []
    },
    {
      "cell_type": "code",
      "source": [
        "%run '/content/drive/My Drive/Colab Notebooks/GraficarVectores.ipynb'"
      ],
      "metadata": {
        "id": "iNTeaQYUglQ_"
      },
      "execution_count": null,
      "outputs": []
    },
    {
      "cell_type": "code",
      "source": [
        "graficar_vectores([vx, vy], ['blue', 'red'])\n",
        "plt.xlim(-0.25, 2)\n",
        "plt.ylim(-0.25, 2)\n",
        "\n",
        "plt.show()"
      ],
      "metadata": {
        "colab": {
          "base_uri": "https://localhost:8080/",
          "height": 269
        },
        "id": "OFsoLG5MgT9N",
        "outputId": "99cc7eb8-69cf-4731-9259-a400d249b121"
      },
      "execution_count": null,
      "outputs": [
        {
          "output_type": "display_data",
          "data": {
            "image/png": "[encoded data removed]",
            "text/plain": [
              "<Figure size 432x288 with 1 Axes>"
            ]
          },
          "metadata": {
            "needs_background": "light"
          }
        }
      ]
    },
    {
      "cell_type": "code",
      "source": [
        "A = np.array([[2,0], [0,2]])\n",
        "A"
      ],
      "metadata": {
        "colab": {
          "base_uri": "https://localhost:8080/"
        },
        "id": "lJ2JL4WthLDB",
        "outputId": "cb0045ad-bb60-4a8f-968a-52e7a06e0b31"
      },
      "execution_count": null,
      "outputs": [
        {
          "output_type": "execute_result",
          "data": {
            "text/plain": [
              "array([[2, 0],\n",
              "       [0, 2]])"
            ]
          },
          "metadata": {},
          "execution_count": 97
        }
      ]
    },
    {
      "cell_type": "code",
      "source": [
        "vx_t = A.dot(vx)\n",
        "vy_t = A.dot(vy)"
      ],
      "metadata": {
        "id": "ytJz3fHZhYkO"
      },
      "execution_count": null,
      "outputs": []
    },
    {
      "cell_type": "code",
      "source": [
        "graficar_vectores([vx_t, vy_t], ['orange', 'green'])\n",
        "plt.xlim(-0.25, 3)\n",
        "plt.ylim(-0.25, 3)\n",
        "\n",
        "plt.show()"
      ],
      "metadata": {
        "colab": {
          "base_uri": "https://localhost:8080/",
          "height": 269
        },
        "id": "wTcuhTR1hg1r",
        "outputId": "a8125b0f-54fb-4634-b588-939b1eed124c"
      },
      "execution_count": null,
      "outputs": [
        {
          "output_type": "display_data",
          "data": {
            "image/png": "[encoded data removed]",
            "text/plain": [
              "<Figure size 432x288 with 1 Axes>"
            ]
          },
          "metadata": {
            "needs_background": "light"
          }
        }
      ]
    },
    {
      "cell_type": "code",
      "source": [
        "np.linalg.det(A)"
      ],
      "metadata": {
        "colab": {
          "base_uri": "https://localhost:8080/"
        },
        "id": "DVdYocxzh8G1",
        "outputId": "7ebfd886-dd87-4283-d4f3-d02602490f5d"
      },
      "execution_count": null,
      "outputs": [
        {
          "output_type": "execute_result",
          "data": {
            "text/plain": [
              "4.0"
            ]
          },
          "metadata": {},
          "execution_count": 102
        }
      ]
    },
    {
      "cell_type": "code",
      "source": [
        "abs((vx_t[0] - vy_t[0]))*abs((vx_t[1] - vy_t[1]))"
      ],
      "metadata": {
        "colab": {
          "base_uri": "https://localhost:8080/"
        },
        "id": "EI9oFDQniD2G",
        "outputId": "0c6ef100-ab20-41a4-c519-e620b09598ce"
      },
      "execution_count": null,
      "outputs": [
        {
          "output_type": "execute_result",
          "data": {
            "text/plain": [
              "4"
            ]
          },
          "metadata": {},
          "execution_count": 103
        }
      ]
    },
    {
      "cell_type": "code",
      "source": [
        "# Ahora con una matriz con determinante negativo\n",
        "B = A* [-1,1]\n",
        "B"
      ],
      "metadata": {
        "colab": {
          "base_uri": "https://localhost:8080/"
        },
        "id": "t0uy1iMHiVcE",
        "outputId": "ef7d3b8e-a13a-4486-945e-d7f2594e927c"
      },
      "execution_count": null,
      "outputs": [
        {
          "output_type": "execute_result",
          "data": {
            "text/plain": [
              "array([[-2,  0],\n",
              "       [ 0,  2]])"
            ]
          },
          "metadata": {},
          "execution_count": 104
        }
      ]
    },
    {
      "cell_type": "code",
      "source": [
        "np.linalg.det(B)"
      ],
      "metadata": {
        "colab": {
          "base_uri": "https://localhost:8080/"
        },
        "id": "_FOakM7figB4",
        "outputId": "a5cb86b5-4d77-4562-bfeb-bb2b07b5218a"
      },
      "execution_count": null,
      "outputs": [
        {
          "output_type": "execute_result",
          "data": {
            "text/plain": [
              "-4.0"
            ]
          },
          "metadata": {},
          "execution_count": 105
        }
      ]
    },
    {
      "cell_type": "code",
      "source": [
        "vx = np.array([0,1])\n",
        "vy = np.array([1,0])\n",
        "\n",
        "vx_t = B.dot(vx)\n",
        "vy_t = B.dot(vy)\n",
        "\n",
        "graficar_vectores([vx_t, vy_t, vx, vy], ['blue', 'red', 'orange', 'green'])\n",
        "plt.xlim(-3, 1.5)\n",
        "plt.ylim(-0.5, 2.5)\n",
        "\n",
        "plt.show()"
      ],
      "metadata": {
        "colab": {
          "base_uri": "https://localhost:8080/",
          "height": 269
        },
        "id": "yq888PN3ipDI",
        "outputId": "d050e592-eecd-4e5f-907a-561322eed72f"
      },
      "execution_count": null,
      "outputs": [
        {
          "output_type": "display_data",
          "data": {
            "image/png": "[encoded data removed]",
            "text/plain": [
              "<Figure size 432x288 with 1 Axes>"
            ]
          },
          "metadata": {
            "needs_background": "light"
          }
        }
      ]
    },
    {
      "cell_type": "markdown",
      "source": [
        "**Traza**\n",
        "\n",
        "+ Se define como la suma de elements de la diagonal\n",
        "Tiene la propiedad de no cambiar ante un cambio de base\n",
        "Determinante\n",
        "\n",
        "+ Es un valor numérico que no da información de la transformación que produce una matriz en su espacio. En el caso de un plano nos dice como varían las áreas en el plano.\n",
        "\n",
        "+ Si una determinante es negativa nos indica que la trasformación rotó el espacio 90 grados, si fuese positiva nos indica que no rota o que rota 180 grados"
      ],
      "metadata": {
        "id": "fJnNBrEyjzL8"
      }
    },
    {
      "cell_type": "markdown",
      "source": [
        "# Examen"
      ],
      "metadata": {
        "id": "990Eb5PokSWx"
      }
    },
    {
      "cell_type": "code",
      "source": [
        "np.linalg.norm(np.array([-50,-25,0,25,100,-300]),ord=0)\n"
      ],
      "metadata": {
        "colab": {
          "base_uri": "https://localhost:8080/"
        },
        "id": "NAxjyYlPkUJH",
        "outputId": "0d567b1e-97c3-41d9-8ed0-caff1fb68cba"
      },
      "execution_count": null,
      "outputs": [
        {
          "output_type": "execute_result",
          "data": {
            "text/plain": [
              "5.0"
            ]
          },
          "metadata": {},
          "execution_count": 108
        }
      ]
    },
    {
      "cell_type": "code",
      "source": [
        "A = np.array([[1,2,3], [4,5,6], [7,8,9], [10,11,12]])\n",
        "B = np.array([[2,3], [5,7], [11,13]])\n",
        "\n",
        "print(A.dot(B))\n",
        "\n",
        "print(A.dot(B).T)\n",
        "print(\"-\"*10)\n",
        "print(\"a)\",B.T.dot(A.T))\n",
        "#print(\"b)\",B.T.dot(A))\n",
        "#print(\"c)\",A.T.dot(B))\n",
        "#print(\"d)\",A.dot(B.T))\n",
        "#print(\"e)\",B.dot(A.T))"
      ],
      "metadata": {
        "colab": {
          "base_uri": "https://localhost:8080/"
        },
        "id": "6XRyuTYclNLV",
        "outputId": "4c233178-8275-4003-9dbf-feff2ad428ef"
      },
      "execution_count": null,
      "outputs": [
        {
          "output_type": "stream",
          "name": "stdout",
          "text": [
            "[[ 45  56]\n",
            " [ 99 125]\n",
            " [153 194]\n",
            " [207 263]]\n",
            "[[ 45  99 153 207]\n",
            " [ 56 125 194 263]]\n",
            "----------\n",
            "a) [[ 45  99 153 207]\n",
            " [ 56 125 194 263]]\n"
          ]
        }
      ]
    },
    {
      "cell_type": "code",
      "source": [
        "A = np.array([[1,2], [3,4], [5,6]])\n",
        "B = np.array([[7,8,9], [13,14, 15]])\n",
        "print(A.dot(B))\n",
        "print(B.dot(A))"
      ],
      "metadata": {
        "colab": {
          "base_uri": "https://localhost:8080/"
        },
        "id": "VwwLP0otmB4_",
        "outputId": "8def9840-9351-46b0-a5f7-dc965ab381b7"
      },
      "execution_count": null,
      "outputs": [
        {
          "output_type": "stream",
          "name": "stdout",
          "text": [
            "[[ 33  36  39]\n",
            " [ 73  80  87]\n",
            " [113 124 135]]\n",
            "[[ 76 100]\n",
            " [130 172]]\n"
          ]
        }
      ]
    },
    {
      "cell_type": "code",
      "source": [
        "# ¿Son ortonormales los vectores?\n",
        "v = np.array([7,-7,3])\n",
        "u = np.array([1,1,0])\n",
        "w = np.array([0,0,1])\n",
        "\n",
        "print(np.linalg.norm(u))\n",
        "print(np.linalg.norm(v))\n",
        "print(np.linalg.norm(w))"
      ],
      "metadata": {
        "colab": {
          "base_uri": "https://localhost:8080/"
        },
        "id": "cl4mm_vZmcrX",
        "outputId": "7e2cfe2d-c8b2-44d0-9b4e-f51f5397b515"
      },
      "execution_count": null,
      "outputs": [
        {
          "output_type": "stream",
          "name": "stdout",
          "text": [
            "1.4142135623730951\n",
            "10.344080432788601\n",
            "1.0\n"
          ]
        }
      ]
    },
    {
      "cell_type": "code",
      "source": [
        "A = np.array([[1,2], [3,4], [5,6]])\n",
        "v = np.array([2,1])\n",
        "A.dot(v)"
      ],
      "metadata": {
        "colab": {
          "base_uri": "https://localhost:8080/"
        },
        "id": "flLOXbmLnMmH",
        "outputId": "e9294e23-0115-4179-ef77-d81d2d707aba"
      },
      "execution_count": null,
      "outputs": [
        {
          "output_type": "execute_result",
          "data": {
            "text/plain": [
              "array([ 4, 10, 16])"
            ]
          },
          "metadata": {},
          "execution_count": 119
        }
      ]
    },
    {
      "cell_type": "code",
      "source": [
        "A = np.array([[1,3], [5,6]])\n",
        "escalar = 3\n",
        "print(A + escalar)\n",
        "print(A + np.array([[3],[3]]))"
      ],
      "metadata": {
        "colab": {
          "base_uri": "https://localhost:8080/"
        },
        "id": "zKui3RQZndZe",
        "outputId": "a71708cc-9606-41cb-f044-f8777239fd3e"
      },
      "execution_count": null,
      "outputs": [
        {
          "output_type": "stream",
          "name": "stdout",
          "text": [
            "[[4 6]\n",
            " [8 9]]\n",
            "[[4 6]\n",
            " [8 9]]\n"
          ]
        }
      ]
    },
    {
      "cell_type": "code",
      "source": [
        "np.linalg.norm(np.array([1/2, 1/2, 1/2, 1/2]), ord=2)"
      ],
      "metadata": {
        "colab": {
          "base_uri": "https://localhost:8080/"
        },
        "id": "PdiksOuhn9tH",
        "outputId": "d17cdb40-f19b-4340-fa1e-b21e0bcf8d34"
      },
      "execution_count": null,
      "outputs": [
        {
          "output_type": "execute_result",
          "data": {
            "text/plain": [
              "1.0"
            ]
          },
          "metadata": {},
          "execution_count": 123
        }
      ]
    },
    {
      "cell_type": "code",
      "source": [
        "A = np.array([[1,2,3,4],[5,6,7,8],[9,10,11,12]])\n",
        "A.T"
      ],
      "metadata": {
        "colab": {
          "base_uri": "https://localhost:8080/"
        },
        "id": "_YQEGMelpVPA",
        "outputId": "c99ccf39-4dbf-40e8-fe9d-549b547e981d"
      },
      "execution_count": null,
      "outputs": [
        {
          "output_type": "execute_result",
          "data": {
            "text/plain": [
              "array([[ 1,  5,  9],\n",
              "       [ 2,  6, 10],\n",
              "       [ 3,  7, 11],\n",
              "       [ 4,  8, 12]])"
            ]
          },
          "metadata": {},
          "execution_count": 124
        }
      ]
    },
    {
      "cell_type": "code",
      "source": [
        "u = np.array([0,1])\n",
        "v = np.array([0,1])\n",
        "norma_u = np.linalg.norm(u)\n",
        "norma_v = np.linalg.norm(v)\n",
        "print(norma_u*norma_v*np.cos(np.deg2rad(90)))"
      ],
      "metadata": {
        "colab": {
          "base_uri": "https://localhost:8080/"
        },
        "id": "R5DccbYuppLS",
        "outputId": "8f77345e-9123-436a-a869-78975f224ac8"
      },
      "execution_count": null,
      "outputs": [
        {
          "output_type": "stream",
          "name": "stdout",
          "text": [
            "6.123233995736766e-17\n"
          ]
        }
      ]
    }
  ]
}