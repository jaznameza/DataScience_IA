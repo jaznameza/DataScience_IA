{
  "nbformat": 4,
  "nbformat_minor": 0,
  "metadata": {
    "colab": {
      "name": "Curso-Introducción a ML por MindsDB.ipynb",
      "provenance": [],
      "collapsed_sections": []
    },
    "kernelspec": {
      "name": "python3",
      "display_name": "Python 3"
    },
    "language_info": {
      "name": "python"
    }
  },
  "cells": [
    {
      "cell_type": "markdown",
      "source": [
        "# Regresión lineal"
      ],
      "metadata": {
        "id": "H18yERvA7ZSV"
      }
    },
    {
      "cell_type": "markdown",
      "source": [
        "![texto del enlace](https://www.jmp.com/en_hk/statistics-knowledge-portal/what-is-multiple-regression/fitting-multiple-regression-model/_jcr_content/par/styledcontainer_2069/par/lightbox_4130/lightboxImage.img.png/1548704005203.png)"
      ],
      "metadata": {
        "id": "gylHEEtR7dvh"
      }
    },
    {
      "cell_type": "markdown",
      "source": [
        "# Regresión logística\n",
        "\n",
        "![texto del enlace](https://static.platzi.com/media/user_upload/3.CONFUSION%20MATRIX-1803063f-2d86-4ac6-885e-29fb8e4f252c.jpg)"
      ],
      "metadata": {
        "id": "Fyc66jzx87Zd"
      }
    },
    {
      "cell_type": "markdown",
      "source": [
        "![](https://glassboxmedicine.files.wordpress.com/2019/02/confusion-matrix.png?w=816)\n",
        "\n",
        "$accuracy = \\frac{aciertos}{total}$ o bien $accuracy = \\frac{(TP+TN)}{(TP+TN+FP+FN)}$"
      ],
      "metadata": {
        "id": "RxLDpq-u9E_c"
      }
    },
    {
      "cell_type": "markdown",
      "source": [
        "# Random Forest\n",
        "\n",
        "![texto del enlace](https://www.freecodecamp.org/news/content/images/2020/08/how-random-forest-classifier-work.PNG)"
      ],
      "metadata": {
        "id": "Jhkcfe5oAdPj"
      }
    },
    {
      "cell_type": "markdown",
      "source": [
        "# K-Means\n",
        "\n",
        "![texto del enlace](https://media2.giphy.com/media/12vVAGkaqHUqCQ/giphy.gif)"
      ],
      "metadata": {
        "id": "bTpdC-Z1AXqp"
      }
    },
    {
      "cell_type": "markdown",
      "source": [
        "## Cómo elegir el valor de K\n",
        "\n",
        "Así que si solo tienes tiempo para un modelo, es bueno calcular la inercia o la puntuación de la silueta.\n",
        "\n",
        "El objetivo de la inercia es poder decir cuán agrupados están los puntos de datos a un centroide. **La idea es que se quiera que la inercia sea bastante pequeña**. Para una puntuación de silueta, sin embargo, necesitas ser capaz de asegurar que los grupos predecidos están muy separados en el espacio.\n",
        "\n",
        "Entonces el objetivo de la puntuación de la silueta será que este número sea lo más cercano posible a uno.\n",
        "\n",
        "Sin embargo, fuera de contexto, un modelo no suele ser suficiente y hay que utilizar varios modelos para evaluar un buen K. Y, por ejemplo, para encontrar un buen K, se puede utilizar la idea de un \"elbow plot\" (gráfico de codo). El objetivo de un gráfico de codo es trazar, por ejemplo, la inercia en función de K, el número de grupos. Y la idea es que a medida que agregas más grupos, vas a obtener cada vez menos agrupación de grupos. Así que el gráfico de codo, que está buscando específicamente la curva en la trama o esa\n",
        "curva y, de hecho, esa debería ser la cantidad aproximada de K que deberías usar para tu modelo."
      ],
      "metadata": {
        "id": "1QwaYPoCDq4b"
      }
    },
    {
      "cell_type": "markdown",
      "source": [
        "# Deep learning - Redes neuronales"
      ],
      "metadata": {
        "id": "dko8djYpO1NA"
      }
    },
    {
      "cell_type": "markdown",
      "source": [
        "## Overfitting and Underfitting\n",
        "\n",
        "![texto del enlace](https://static.platzi.com/media/user_upload/Screenshot-2020-02-06-at-14.42.42-768x460-e5483a1d-a216-42a3-a4a9-619b1e2f1788.jpg)"
      ],
      "metadata": {
        "id": "L20Z-52NO8AO"
      }
    },
    {
      "cell_type": "markdown",
      "source": [
        "![](https://static.platzi.com/media/user_upload/Screenshot-2020-02-06-at-11.08.59-768x327-0410206a-0e5b-4441-994c-abd65e9d31cf.jpg)"
      ],
      "metadata": {
        "id": "fOZLzPKHPIfo"
      }
    }
  ]
}