{
  "nbformat": 4,
  "nbformat_minor": 0,
  "metadata": {
    "colab": {
      "name": "GraficarVectores.ipynb",
      "provenance": [],
      "collapsed_sections": []
    },
    "kernelspec": {
      "name": "python3",
      "display_name": "Python 3"
    },
    "language_info": {
      "name": "python"
    }
  },
  "cells": [
    {
      "cell_type": "code",
      "execution_count": null,
      "metadata": {
        "id": "TIoywpK_ktQO"
      },
      "outputs": [],
      "source": [
        "def graficar_vectores(vecs, colores, alpha = 1):\n",
        "  plt.figure()\n",
        "  plt.axvline(x=0, color = 'grey', zorder = 0)\n",
        "  plt.axhline(y=0, color = 'grey', zorder = 0)\n",
        "\n",
        "  for i in range(len(vecs)):\n",
        "    x = np.concatenate([[0,0], vecs[i]])\n",
        "    plt.quiver([x[0]], [x[1]], [x[2]], [x[3]], angles='xy',\n",
        "               scale_units = 'xy', scale=1,\n",
        "               color=colores[i],\n",
        "               alpha = alpha)"
      ]
    }
  ]
}